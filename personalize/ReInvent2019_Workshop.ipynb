{
 "cells": [
  {
   "cell_type": "markdown",
   "metadata": {},
   "source": [
    "# ReInvent 2019 Amazon Personalize Workshop\n",
    "\n",
    "![MainDiagram](static/imgs/image.png)\n",
    "\n",
    "## Agenda\n",
    "\n",
    "At a high level working with Amazon Personalize follows the steps in the diagram below:\n",
    "\n",
    "![FlowDiagram](static/imgs/personalize_process.png)\n",
    "\n",
    "The specific process that you will be following is:\n",
    "\n",
    "1. Imports and Setup\n",
    "1. Preparing Your Data\n",
    "1. Importing Your Data\n",
    "1. Selecting a Recipe\n",
    "1. Training a Solution\n",
    "1. Deploying a Campaign\n",
    "1. Getting Recommendations\n",
    "1. Real-Time Interactions\n",
    "1. Conclusion\n",
    "1. Bonus: Bulk Export of Recommendations\n",
    "\n",
    "In each of these steps you'll see and execute code snippets written in Python using our Boto3 SDK, these snippets can be modified to be components of your production integration with Personalize. \n",
    "\n",
    "This notebook will walk you through the steps to build a recommendation model for movies that are tailored to specific users, the goal is to recommend movies based on that users' history of positive interactions with movies.\n",
    "\n",
    "The data is provided via the [MovieLens Project](https://movielens.org), you can read more about it later if you are interested.\n",
    "\n",
    "The content below has been written to guide you through the process within the timeline of a workshop session. You can deploy the CloudFormation template you found on GitHub later to your own account and can walk through notebooks 1-3 to do the same exercise again. Additionally you can update the content in the cells to reflect your own data and it is an effective path to building a custom recommendaiton model for your use case.\n",
    "\n",
    "## How to Use the Notebook\n",
    "\n",
    "Code is broken up into cells like the one below. There's a triangular `Run` button at the top of this page you can click to execute each cell and move onto the next, or you can press `Shift` + `Enter` or `Shift` + `Return`(Mac Users) while in the cell to execute it and move onto the next one.\n",
    "\n",
    "\n",
    "As a cell is executing you'll notice a line to the side showcase an `*` while the cell is running or it will update to a number to indicate the last cell that completed executing after it has finished exectuting all the code within a cell.\n",
    "\n",
    "\n",
    "Simply follow the instructions below and execute the cells to get started with Amazon Personalize.\n",
    "\n"
   ]
  },
  {
   "cell_type": "markdown",
   "metadata": {},
   "source": [
    "## Imports and Setup \n",
    "\n",
    "Python ships with a broad collection of libraries and we need to import those as well as the ones installed to help us like boto3(The AWS SDK) and Pandas/Numpy which are core data science tools. The cell below will import them for use here. It will also update the boto3 library to the latest version. You may see a warning(yellow text) or an error(red text), this is perfectly fine, just continue running the next cell."
   ]
  },
  {
   "cell_type": "code",
   "execution_count": 1,
   "metadata": {},
   "outputs": [
    {
     "name": "stdout",
     "output_type": "stream",
     "text": [
      "Collecting boto3\n",
      "\u001b[?25l  Downloading https://files.pythonhosted.org/packages/1d/60/40b189b276d65220853af1b4088ded17598e7417feebbcefb3c580eef94e/boto3-1.10.33-py2.py3-none-any.whl (128kB)\n",
      "\u001b[K    100% |████████████████████████████████| 133kB 5.8MB/s ta 0:00:01\n",
      "\u001b[?25hRequirement not upgraded as not directly required: jmespath<1.0.0,>=0.7.1 in /home/ec2-user/anaconda3/envs/python3/lib/python3.6/site-packages (from boto3) (0.9.4)\n",
      "Requirement not upgraded as not directly required: s3transfer<0.3.0,>=0.2.0 in /home/ec2-user/anaconda3/envs/python3/lib/python3.6/site-packages (from boto3) (0.2.1)\n",
      "Collecting botocore<1.14.0,>=1.13.33 (from boto3)\n",
      "\u001b[?25l  Downloading https://files.pythonhosted.org/packages/ec/00/475c3f9f4b1064c6b7ae4f07a485939df03e6412e025912e399d27d9f16f/botocore-1.13.33-py2.py3-none-any.whl (5.8MB)\n",
      "\u001b[K    100% |████████████████████████████████| 5.8MB 8.9MB/s eta 0:00:01\n",
      "\u001b[?25hRequirement not upgraded as not directly required: urllib3<1.26,>=1.20; python_version >= \"3.4\" in /home/ec2-user/anaconda3/envs/python3/lib/python3.6/site-packages (from botocore<1.14.0,>=1.13.33->boto3) (1.23)\n",
      "Requirement not upgraded as not directly required: docutils<0.16,>=0.10 in /home/ec2-user/anaconda3/envs/python3/lib/python3.6/site-packages (from botocore<1.14.0,>=1.13.33->boto3) (0.14)\n",
      "Requirement not upgraded as not directly required: python-dateutil<2.8.1,>=2.1; python_version >= \"2.7\" in /home/ec2-user/anaconda3/envs/python3/lib/python3.6/site-packages (from botocore<1.14.0,>=1.13.33->boto3) (2.7.3)\n",
      "Requirement not upgraded as not directly required: six>=1.5 in /home/ec2-user/anaconda3/envs/python3/lib/python3.6/site-packages (from python-dateutil<2.8.1,>=2.1; python_version >= \"2.7\"->botocore<1.14.0,>=1.13.33->boto3) (1.11.0)\n",
      "\u001b[31mawscli 1.16.283 has requirement botocore==1.13.19, but you'll have botocore 1.13.33 which is incompatible.\u001b[0m\n",
      "Installing collected packages: botocore, boto3\n",
      "  Found existing installation: botocore 1.13.19\n",
      "    Uninstalling botocore-1.13.19:\n",
      "      Successfully uninstalled botocore-1.13.19\n",
      "  Found existing installation: boto3 1.10.19\n",
      "    Uninstalling boto3-1.10.19:\n",
      "      Successfully uninstalled boto3-1.10.19\n",
      "Successfully installed boto3-1.10.33 botocore-1.13.33\n",
      "\u001b[33mYou are using pip version 10.0.1, however version 19.3.1 is available.\n",
      "You should consider upgrading via the 'pip install --upgrade pip' command.\u001b[0m\n"
     ]
    }
   ],
   "source": [
    "# Update boto3\n",
    "!pip install --upgrade boto3\n",
    "# Imports\n",
    "import boto3\n",
    "import json\n",
    "import numpy as np\n",
    "import pandas as pd\n",
    "import time\n",
    "import datetime\n",
    "import uuid"
   ]
  },
  {
   "cell_type": "markdown",
   "metadata": {},
   "source": [
    "Next you will want to validate that your environment can communicate successfully with Amazon Personalize, the lines below do just that."
   ]
  },
  {
   "cell_type": "code",
   "execution_count": 2,
   "metadata": {},
   "outputs": [],
   "source": [
    "# Configure the SDK to Personalize:\n",
    "personalize = boto3.client('personalize')\n",
    "personalize_runtime = boto3.client('personalize-runtime')\n",
    "personalize_events = boto3.client(service_name='personalize-events')"
   ]
  },
  {
   "cell_type": "markdown",
   "metadata": {},
   "source": [
    "The last bit of setup is to determine the region you are running this workshop in. The cell below will do that and assign it to the `region` variable."
   ]
  },
  {
   "cell_type": "code",
   "execution_count": 3,
   "metadata": {},
   "outputs": [],
   "source": [
    "with open('/opt/ml/metadata/resource-metadata.json') as notebook_info:\n",
    "    data = json.load(notebook_info)\n",
    "    resource_arn = data['ResourceArn']\n",
    "    region = resource_arn.split(':')[3]"
   ]
  },
  {
   "cell_type": "markdown",
   "metadata": {},
   "source": [
    "## Preparing Your Data\n",
    "\n",
    "To begin you will need a collection of data points where users have interacted with content in some way. Amazon Personalize assumes that if an interaction is recorded it is a positive one, you will see how we use that later. \n",
    "\n",
    "The cell below will download the data you need, extract the content from a Zip file, and then display a small portion of it to your screen."
   ]
  },
  {
   "cell_type": "code",
   "execution_count": 4,
   "metadata": {},
   "outputs": [
    {
     "name": "stdout",
     "output_type": "stream",
     "text": [
      "--2019-12-05 23:52:37--  http://files.grouplens.org/datasets/movielens/ml-100k.zip\n",
      "Resolving files.grouplens.org (files.grouplens.org)... 128.101.65.152\n",
      "Connecting to files.grouplens.org (files.grouplens.org)|128.101.65.152|:80... connected.\n",
      "HTTP request sent, awaiting response... 200 OK\n",
      "Length: 4924029 (4.7M) [application/zip]\n",
      "Saving to: ‘ml-100k.zip’\n",
      "\n",
      "ml-100k.zip         100%[===================>]   4.70M  8.11MB/s    in 0.6s    \n",
      "\n",
      "2019-12-05 23:52:38 (8.11 MB/s) - ‘ml-100k.zip’ saved [4924029/4924029]\n",
      "\n",
      "Archive:  ml-100k.zip\n",
      "   creating: ml-100k/\n",
      "  inflating: ml-100k/allbut.pl       \n",
      "  inflating: ml-100k/mku.sh          \n",
      "  inflating: ml-100k/README          \n",
      "  inflating: ml-100k/u.data          \n",
      "  inflating: ml-100k/u.genre         \n",
      "  inflating: ml-100k/u.info          \n",
      "  inflating: ml-100k/u.item          \n",
      "  inflating: ml-100k/u.occupation    \n",
      "  inflating: ml-100k/u.user          \n",
      "  inflating: ml-100k/u1.base         \n",
      "  inflating: ml-100k/u1.test         \n",
      "  inflating: ml-100k/u2.base         \n",
      "  inflating: ml-100k/u2.test         \n",
      "  inflating: ml-100k/u3.base         \n",
      "  inflating: ml-100k/u3.test         \n",
      "  inflating: ml-100k/u4.base         \n",
      "  inflating: ml-100k/u4.test         \n",
      "  inflating: ml-100k/u5.base         \n",
      "  inflating: ml-100k/u5.test         \n",
      "  inflating: ml-100k/ua.base         \n",
      "  inflating: ml-100k/ua.test         \n",
      "  inflating: ml-100k/ub.base         \n",
      "  inflating: ml-100k/ub.test         \n"
     ]
    },
    {
     "data": {
      "text/html": [
       "<div>\n",
       "<style scoped>\n",
       "    .dataframe tbody tr th:only-of-type {\n",
       "        vertical-align: middle;\n",
       "    }\n",
       "\n",
       "    .dataframe tbody tr th {\n",
       "        vertical-align: top;\n",
       "    }\n",
       "\n",
       "    .dataframe thead th {\n",
       "        text-align: right;\n",
       "    }\n",
       "</style>\n",
       "<table border=\"1\" class=\"dataframe\">\n",
       "  <thead>\n",
       "    <tr style=\"text-align: right;\">\n",
       "      <th></th>\n",
       "      <th>USER_ID</th>\n",
       "      <th>ITEM_ID</th>\n",
       "      <th>RATING</th>\n",
       "      <th>TIMESTAMP</th>\n",
       "    </tr>\n",
       "  </thead>\n",
       "  <tbody>\n",
       "    <tr>\n",
       "      <th>0</th>\n",
       "      <td>196</td>\n",
       "      <td>242</td>\n",
       "      <td>3</td>\n",
       "      <td>881250949</td>\n",
       "    </tr>\n",
       "    <tr>\n",
       "      <th>1</th>\n",
       "      <td>186</td>\n",
       "      <td>302</td>\n",
       "      <td>3</td>\n",
       "      <td>891717742</td>\n",
       "    </tr>\n",
       "    <tr>\n",
       "      <th>...</th>\n",
       "      <td>...</td>\n",
       "      <td>...</td>\n",
       "      <td>...</td>\n",
       "      <td>...</td>\n",
       "    </tr>\n",
       "    <tr>\n",
       "      <th>99998</th>\n",
       "      <td>13</td>\n",
       "      <td>225</td>\n",
       "      <td>2</td>\n",
       "      <td>882399156</td>\n",
       "    </tr>\n",
       "    <tr>\n",
       "      <th>99999</th>\n",
       "      <td>12</td>\n",
       "      <td>203</td>\n",
       "      <td>3</td>\n",
       "      <td>879959583</td>\n",
       "    </tr>\n",
       "  </tbody>\n",
       "</table>\n",
       "<p>100000 rows × 4 columns</p>\n",
       "</div>"
      ],
      "text/plain": [
       "       USER_ID  ITEM_ID  RATING  TIMESTAMP\n",
       "0          196      242       3  881250949\n",
       "1          186      302       3  891717742\n",
       "...        ...      ...     ...        ...\n",
       "99998       13      225       2  882399156\n",
       "99999       12      203       3  879959583\n",
       "\n",
       "[100000 rows x 4 columns]"
      ]
     },
     "execution_count": 4,
     "metadata": {},
     "output_type": "execute_result"
    }
   ],
   "source": [
    "!wget -N http://files.grouplens.org/datasets/movielens/ml-100k.zip\n",
    "!unzip -o ml-100k.zip\n",
    "data = pd.read_csv('./ml-100k/u.data', sep='\\t', names=['USER_ID', 'ITEM_ID', 'RATING', 'TIMESTAMP'], engine='python')\n",
    "pd.set_option('display.max_rows', 5)\n",
    "data"
   ]
  },
  {
   "cell_type": "markdown",
   "metadata": {},
   "source": [
    "As you can see the data contains a UserID, ItemID, Rating, and Timestamp.\n",
    "\n",
    "We do not need the `Rating` column so it will be removed before we save the file.\n",
    "\n",
    "Once the data has been prepared you will save it to a CSV file locally with the last line."
   ]
  },
  {
   "cell_type": "code",
   "execution_count": 5,
   "metadata": {},
   "outputs": [],
   "source": [
    "data = data[['USER_ID', 'ITEM_ID', 'TIMESTAMP']] # select columns that match the columns in the schema below\n",
    "filename = \"movie-lens-ml-100k-prepared.csv\"\n",
    "data.to_csv(filename, index=False)"
   ]
  },
  {
   "cell_type": "markdown",
   "metadata": {},
   "source": [
    "Before you can upload the data into S3 you will need to create a bucket, the cell below will do that."
   ]
  },
  {
   "cell_type": "code",
   "execution_count": 6,
   "metadata": {},
   "outputs": [
    {
     "name": "stdout",
     "output_type": "stream",
     "text": [
      "us-west-2\n",
      "006215296044reinventpersonalizeworkshop\n"
     ]
    }
   ],
   "source": [
    "print(region)\n",
    "s3 = boto3.client('s3')\n",
    "account_id = boto3.client('sts').get_caller_identity().get('Account')\n",
    "bucket_name = account_id + \"reinventpersonalizeworkshop\"\n",
    "print(bucket_name)\n",
    "if region != \"us-east-1\":\n",
    "    s3.create_bucket(Bucket=bucket_name, CreateBucketConfiguration={'LocationConstraint': region})\n",
    "else:\n",
    "    s3.create_bucket(Bucket=bucket_name)"
   ]
  },
  {
   "cell_type": "markdown",
   "metadata": {},
   "source": [
    "Now you can upload the file to S3 and it will be ready to import into Amazon Personalize."
   ]
  },
  {
   "cell_type": "code",
   "execution_count": 7,
   "metadata": {},
   "outputs": [],
   "source": [
    "boto3.Session().resource('s3').Bucket(bucket_name).Object(filename).upload_file(filename)"
   ]
  },
  {
   "cell_type": "markdown",
   "metadata": {},
   "source": [
    "## Importing Your Data\n",
    "\n",
    "The steps for importing your data are:\n",
    "\n",
    "1. Create a Dataset Group.\n",
    "1. Determine the schema for your dataset.\n",
    "1. Create a Dataset using your schema.\n",
    "1. Run an ImportJob to load the data for use with Personalize.\n",
    "\n",
    "\n",
    "In Amazon Personalize a Dataset Group is how your information is isolated from any other experiment. No information is shared between these groups at all. A Dataset Group can contain your interaction data, item metadata, user metadata, event trackers, solutions, and campaigns. To learn more about them: https://docs.aws.amazon.com/personalize/latest/dg/API_DatasetGroup.html \n",
    "\n",
    "Begin by creating a Dataset Group"
   ]
  },
  {
   "cell_type": "markdown",
   "metadata": {},
   "source": [
    "#### Create Dataset Group"
   ]
  },
  {
   "cell_type": "code",
   "execution_count": 8,
   "metadata": {},
   "outputs": [
    {
     "name": "stdout",
     "output_type": "stream",
     "text": [
      "{\n",
      "  \"datasetGroupArn\": \"arn:aws:personalize:us-west-2:006215296044:dataset-group/personalize-RI-demo\",\n",
      "  \"ResponseMetadata\": {\n",
      "    \"RequestId\": \"47aa3d69-9e15-4b6d-ae0c-35f2a29b1cfa\",\n",
      "    \"HTTPStatusCode\": 200,\n",
      "    \"HTTPHeaders\": {\n",
      "      \"content-type\": \"application/x-amz-json-1.1\",\n",
      "      \"date\": \"Thu, 05 Dec 2019 23:53:05 GMT\",\n",
      "      \"x-amzn-requestid\": \"47aa3d69-9e15-4b6d-ae0c-35f2a29b1cfa\",\n",
      "      \"content-length\": \"98\",\n",
      "      \"connection\": \"keep-alive\"\n",
      "    },\n",
      "    \"RetryAttempts\": 0\n",
      "  }\n",
      "}\n"
     ]
    }
   ],
   "source": [
    "create_dataset_group_response = personalize.create_dataset_group(\n",
    "    name = \"personalize-RI-demo\"\n",
    ")\n",
    "\n",
    "dataset_group_arn = create_dataset_group_response['datasetGroupArn']\n",
    "print(json.dumps(create_dataset_group_response, indent=2)) "
   ]
  },
  {
   "cell_type": "markdown",
   "metadata": {},
   "source": [
    "#### Dataset Group Create Loop\n",
    "\n",
    "It takes a few seconds to create a DatasetGroup so the cell below will poll until the DatasetGroup is active and you can continue with the workshop. Once it says `ACTIVE` move to the `Create Schema` step.\n"
   ]
  },
  {
   "cell_type": "code",
   "execution_count": 9,
   "metadata": {},
   "outputs": [
    {
     "name": "stdout",
     "output_type": "stream",
     "text": [
      "DatasetGroup: ACTIVE\n"
     ]
    }
   ],
   "source": [
    "max_time = time.time() + 3*60*60 # 3 hours\n",
    "while time.time() < max_time:\n",
    "    describe_dataset_group_response = personalize.describe_dataset_group(\n",
    "        datasetGroupArn = dataset_group_arn\n",
    "    )\n",
    "    status = describe_dataset_group_response[\"datasetGroup\"][\"status\"]\n",
    "    print(\"DatasetGroup: {}\".format(status))\n",
    "    \n",
    "    if status == \"ACTIVE\" or status == \"CREATE FAILED\":\n",
    "        break\n",
    "        \n",
    "    time.sleep(5)"
   ]
  },
  {
   "cell_type": "markdown",
   "metadata": {},
   "source": [
    "#### Create Schema\n"
   ]
  },
  {
   "cell_type": "markdown",
   "metadata": {},
   "source": [
    "Now you can determine the Schema for your Dataset. In this workshop time is limited so you will only be utilizing user-item-interaction data or interaction data for short. The cell below contains the required items for this dataset and maps to the structure of the CSV that you uploaded earlier."
   ]
  },
  {
   "cell_type": "code",
   "execution_count": 10,
   "metadata": {},
   "outputs": [],
   "source": [
    "schema = {\n",
    "    \"type\": \"record\",\n",
    "    \"name\": \"Interactions\",\n",
    "    \"namespace\": \"com.amazonaws.personalize.schema\",\n",
    "    \"fields\": [\n",
    "        {\n",
    "            \"name\": \"USER_ID\",\n",
    "            \"type\": \"string\"\n",
    "        },\n",
    "        {\n",
    "            \"name\": \"ITEM_ID\",\n",
    "            \"type\": \"string\"\n",
    "        },\n",
    "        {\n",
    "            \"name\": \"TIMESTAMP\",\n",
    "            \"type\": \"long\"\n",
    "        }\n",
    "    ],\n",
    "    \"version\": \"1.0\"\n",
    "}"
   ]
  },
  {
   "cell_type": "markdown",
   "metadata": {},
   "source": [
    "The cell below will create a schema inside Amazon Personalize that can be connected to a Dataset this is how Personalize understands the content within your CSV file."
   ]
  },
  {
   "cell_type": "code",
   "execution_count": 11,
   "metadata": {},
   "outputs": [
    {
     "name": "stdout",
     "output_type": "stream",
     "text": [
      "{\n",
      "  \"schemaArn\": \"arn:aws:personalize:us-west-2:006215296044:schema/personalize-ri-demo-schema\",\n",
      "  \"ResponseMetadata\": {\n",
      "    \"RequestId\": \"013e1390-11ec-4ecc-b443-a70940f48850\",\n",
      "    \"HTTPStatusCode\": 200,\n",
      "    \"HTTPHeaders\": {\n",
      "      \"content-type\": \"application/x-amz-json-1.1\",\n",
      "      \"date\": \"Thu, 05 Dec 2019 23:53:37 GMT\",\n",
      "      \"x-amzn-requestid\": \"013e1390-11ec-4ecc-b443-a70940f48850\",\n",
      "      \"content-length\": \"92\",\n",
      "      \"connection\": \"keep-alive\"\n",
      "    },\n",
      "    \"RetryAttempts\": 0\n",
      "  }\n",
      "}\n"
     ]
    }
   ],
   "source": [
    "create_schema_response = personalize.create_schema(\n",
    "    name = \"personalize-ri-demo-schema\",\n",
    "    schema = json.dumps(schema)\n",
    ")\n",
    "\n",
    "schema_arn = create_schema_response['schemaArn']\n",
    "print(json.dumps(create_schema_response, indent=2))"
   ]
  },
  {
   "cell_type": "markdown",
   "metadata": {},
   "source": [
    "#### Create Dataset\n"
   ]
  },
  {
   "cell_type": "markdown",
   "metadata": {},
   "source": [
    "Next create the Dataset for interactions and assign it the Schema provided and assign it to the Dataset Group you created earlier with this code:"
   ]
  },
  {
   "cell_type": "code",
   "execution_count": 12,
   "metadata": {},
   "outputs": [
    {
     "name": "stdout",
     "output_type": "stream",
     "text": [
      "{\n",
      "  \"datasetArn\": \"arn:aws:personalize:us-west-2:006215296044:dataset/personalize-RI-demo/INTERACTIONS\",\n",
      "  \"ResponseMetadata\": {\n",
      "    \"RequestId\": \"2f58a35f-89d3-4bda-ae27-facb63b8e081\",\n",
      "    \"HTTPStatusCode\": 200,\n",
      "    \"HTTPHeaders\": {\n",
      "      \"content-type\": \"application/x-amz-json-1.1\",\n",
      "      \"date\": \"Thu, 05 Dec 2019 23:53:42 GMT\",\n",
      "      \"x-amzn-requestid\": \"2f58a35f-89d3-4bda-ae27-facb63b8e081\",\n",
      "      \"content-length\": \"100\",\n",
      "      \"connection\": \"keep-alive\"\n",
      "    },\n",
      "    \"RetryAttempts\": 0\n",
      "  }\n",
      "}\n"
     ]
    }
   ],
   "source": [
    "dataset_type = \"INTERACTIONS\"\n",
    "create_dataset_response = personalize.create_dataset(\n",
    "    name = \"personalize-ri-interactions\",\n",
    "    datasetType = dataset_type,\n",
    "    datasetGroupArn = dataset_group_arn,\n",
    "    schemaArn = schema_arn\n",
    ")\n",
    "\n",
    "dataset_arn = create_dataset_response['datasetArn']\n",
    "print(json.dumps(create_dataset_response, indent=2))"
   ]
  },
  {
   "cell_type": "markdown",
   "metadata": {},
   "source": [
    "#### Attach Policy to S3 Bucket"
   ]
  },
  {
   "cell_type": "markdown",
   "metadata": {},
   "source": [
    "Before you can execute the import job for your data you will need to attach a bucket policy to your S3 bucket to allow Personalize to communicate with it, as well as an IAM role for the service to use within this AWS account."
   ]
  },
  {
   "cell_type": "code",
   "execution_count": 13,
   "metadata": {},
   "outputs": [
    {
     "data": {
      "text/plain": [
       "{'ResponseMetadata': {'RequestId': 'D44E7FBFB06C853D',\n",
       "  'HostId': 'cICAQYvDOhoCxaC9e8IapdT76IfqpT9LQkEO7a1nbIx4uqdj0cD/bcQ6BKKVKLByopUkGDvwz0k=',\n",
       "  'HTTPStatusCode': 204,\n",
       "  'HTTPHeaders': {'x-amz-id-2': 'cICAQYvDOhoCxaC9e8IapdT76IfqpT9LQkEO7a1nbIx4uqdj0cD/bcQ6BKKVKLByopUkGDvwz0k=',\n",
       "   'x-amz-request-id': 'D44E7FBFB06C853D',\n",
       "   'date': 'Thu, 05 Dec 2019 23:53:44 GMT',\n",
       "   'server': 'AmazonS3'},\n",
       "  'RetryAttempts': 0}}"
      ]
     },
     "execution_count": 13,
     "metadata": {},
     "output_type": "execute_result"
    }
   ],
   "source": [
    "s3 = boto3.client(\"s3\")\n",
    "\n",
    "policy = {\n",
    "    \"Version\": \"2012-10-17\",\n",
    "    \"Id\": \"PersonalizeS3BucketAccessPolicy\",\n",
    "    \"Statement\": [\n",
    "        {\n",
    "            \"Sid\": \"PersonalizeS3BucketAccessPolicy\",\n",
    "            \"Effect\": \"Allow\",\n",
    "            \"Principal\": {\n",
    "                \"Service\": \"personalize.amazonaws.com\"\n",
    "            },\n",
    "            \"Action\": [\n",
    "                \"s3:*Object\",\n",
    "                \"s3:ListBucket\"\n",
    "            ],\n",
    "            \"Resource\": [\n",
    "                \"arn:aws:s3:::{}\".format(bucket_name),\n",
    "                \"arn:aws:s3:::{}/*\".format(bucket_name)\n",
    "            ]\n",
    "        }\n",
    "    ]\n",
    "}\n",
    "\n",
    "s3.put_bucket_policy(Bucket=bucket_name, Policy=json.dumps(policy))"
   ]
  },
  {
   "cell_type": "markdown",
   "metadata": {},
   "source": [
    "Just a note, IAM changes in the cell below take just a few seconds to be confirmed so this section will take 1 minute to complete. Execute the cell below next."
   ]
  },
  {
   "cell_type": "markdown",
   "metadata": {},
   "source": [
    "#### Create Personalize Role"
   ]
  },
  {
   "cell_type": "code",
   "execution_count": 14,
   "metadata": {},
   "outputs": [
    {
     "name": "stdout",
     "output_type": "stream",
     "text": [
      "arn:aws:iam::006215296044:role/PersonalizeRoleRIDemo\n"
     ]
    }
   ],
   "source": [
    "iam = boto3.client(\"iam\")\n",
    "\n",
    "role_name = \"PersonalizeRoleRIDemo\"\n",
    "assume_role_policy_document = {\n",
    "    \"Version\": \"2012-10-17\",\n",
    "    \"Statement\": [\n",
    "        {\n",
    "          \"Effect\": \"Allow\",\n",
    "          \"Principal\": {\n",
    "            \"Service\": \"personalize.amazonaws.com\"\n",
    "          },\n",
    "          \"Action\": \"sts:AssumeRole\"\n",
    "        }\n",
    "    ]\n",
    "}\n",
    "\n",
    "create_role_response = iam.create_role(\n",
    "    RoleName = role_name,\n",
    "    AssumeRolePolicyDocument = json.dumps(assume_role_policy_document)\n",
    ")\n",
    "\n",
    "# AmazonPersonalizeFullAccess provides access to any S3 bucket with a name that includes \"personalize\" or \"Personalize\" \n",
    "# if you would like to use a bucket with a different name, please consider creating and attaching a new policy\n",
    "# that provides read access to your bucket or attaching the AmazonS3ReadOnlyAccess policy to the role\n",
    "policy_arn = \"arn:aws:iam::aws:policy/service-role/AmazonPersonalizeFullAccess\"\n",
    "iam.attach_role_policy(\n",
    "    RoleName = role_name,\n",
    "    PolicyArn = policy_arn\n",
    ")\n",
    "\n",
    "# Now add S3 support\n",
    "iam.attach_role_policy(\n",
    "    PolicyArn='arn:aws:iam::aws:policy/AmazonS3FullAccess',\n",
    "    RoleName=role_name\n",
    ")\n",
    "time.sleep(60) # wait for a minute to allow IAM role policy attachment to propagate\n",
    "\n",
    "role_arn = create_role_response[\"Role\"][\"Arn\"]\n",
    "print(role_arn)"
   ]
  },
  {
   "cell_type": "markdown",
   "metadata": {},
   "source": [
    "At last you are ready to import the data into Personalize, the first cell below will start the process and the second contains a while loop that will poll the service to determine when the import job has completed. \n",
    "\n",
    "During this workshop you are importing a relatively small dataset and it may seem like this takes a while for such a small file. The leading use of time here is provisioning dedicated resources that will actually run the task. This allows Personalize to provide HIPAA compliance for example, it also means that just because your files are larger that it won't take an extremely long time, once the resources are up and running the import is pretty quick.\n",
    "\n",
    "It may take up to 20 minutes for the import process to complete. "
   ]
  },
  {
   "cell_type": "markdown",
   "metadata": {},
   "source": [
    "#### Create Dataset Import Job"
   ]
  },
  {
   "cell_type": "code",
   "execution_count": 15,
   "metadata": {},
   "outputs": [
    {
     "name": "stdout",
     "output_type": "stream",
     "text": [
      "{\n",
      "  \"datasetImportJobArn\": \"arn:aws:personalize:us-west-2:006215296044:dataset-import-job/personalize-ri-import\",\n",
      "  \"ResponseMetadata\": {\n",
      "    \"RequestId\": \"a1b5b256-76ec-4bab-88f0-e215559039d5\",\n",
      "    \"HTTPStatusCode\": 200,\n",
      "    \"HTTPHeaders\": {\n",
      "      \"content-type\": \"application/x-amz-json-1.1\",\n",
      "      \"date\": \"Thu, 05 Dec 2019 23:54:46 GMT\",\n",
      "      \"x-amzn-requestid\": \"a1b5b256-76ec-4bab-88f0-e215559039d5\",\n",
      "      \"content-length\": \"109\",\n",
      "      \"connection\": \"keep-alive\"\n",
      "    },\n",
      "    \"RetryAttempts\": 0\n",
      "  }\n",
      "}\n"
     ]
    }
   ],
   "source": [
    "create_dataset_import_job_response = personalize.create_dataset_import_job(\n",
    "    jobName = \"personalize-ri-import\",\n",
    "    datasetArn = dataset_arn,\n",
    "    dataSource = {\n",
    "        \"dataLocation\": \"s3://{}/{}\".format(bucket_name, filename)\n",
    "    },\n",
    "    roleArn = role_arn\n",
    ")\n",
    "\n",
    "dataset_import_job_arn = create_dataset_import_job_response['datasetImportJobArn']\n",
    "print(json.dumps(create_dataset_import_job_response, indent=2))"
   ]
  },
  {
   "cell_type": "markdown",
   "metadata": {},
   "source": [
    "#### Dataset Import Loop\n",
    "\n",
    "The cell below will take a bit longer to complete, it is polling to learn when your Dataset has been fully imported into Personalize. This should take around 20 minutes to complete. Most of the time is spent provisioning infrastructure behind the scenes. This means that much larger files do not take much longer to import in most cases.\n",
    "\n",
    "Run the cell below, then move on when it reaches an `ACTIVE` state.\n"
   ]
  },
  {
   "cell_type": "code",
   "execution_count": 16,
   "metadata": {},
   "outputs": [
    {
     "name": "stdout",
     "output_type": "stream",
     "text": [
      "Import Started on:  11:54:46 PM\n",
      "DatasetImportJob: CREATE PENDING\n",
      "DatasetImportJob: CREATE IN_PROGRESS\n",
      "DatasetImportJob: CREATE IN_PROGRESS\n",
      "DatasetImportJob: CREATE IN_PROGRESS\n",
      "DatasetImportJob: CREATE IN_PROGRESS\n",
      "DatasetImportJob: CREATE IN_PROGRESS\n",
      "DatasetImportJob: CREATE IN_PROGRESS\n",
      "DatasetImportJob: CREATE IN_PROGRESS\n",
      "DatasetImportJob: CREATE IN_PROGRESS\n",
      "DatasetImportJob: CREATE IN_PROGRESS\n",
      "DatasetImportJob: CREATE IN_PROGRESS\n",
      "DatasetImportJob: CREATE IN_PROGRESS\n",
      "DatasetImportJob: CREATE IN_PROGRESS\n",
      "DatasetImportJob: ACTIVE\n",
      "Import Completed on:  12:07:47 AM\n"
     ]
    }
   ],
   "source": [
    "current_time = datetime.datetime.now()\n",
    "print(\"Import Started on: \", current_time.strftime(\"%I:%M:%S %p\"))\n",
    "\n",
    "max_time = time.time() + 3*60*60 # 3 hours\n",
    "while time.time() < max_time:\n",
    "    describe_dataset_import_job_response = personalize.describe_dataset_import_job(\n",
    "        datasetImportJobArn = dataset_import_job_arn\n",
    "    )\n",
    "    status = describe_dataset_import_job_response[\"datasetImportJob\"]['status']\n",
    "    print(\"DatasetImportJob: {}\".format(status))\n",
    "    \n",
    "    if status == \"ACTIVE\" or status == \"CREATE FAILED\":\n",
    "        break\n",
    "        \n",
    "    time.sleep(60)\n",
    "    \n",
    "current_time = datetime.datetime.now()\n",
    "print(\"Import Completed on: \", current_time.strftime(\"%I:%M:%S %p\"))"
   ]
  },
  {
   "cell_type": "markdown",
   "metadata": {},
   "source": [
    "## Selecting a Recipe\n",
    "\n",
    "Inside Personalize the algorithms available are called recipes, the code below will give you a full list of them. They each have various use cases and detailed information can be found here: https://docs.aws.amazon.com/personalize/latest/dg/working-with-predefined-recipes.html\n",
    "\n",
    "In this workshop you will be using HRNN(Hierarchical Recurrent Neural Network) quoting the docs:\n",
    "\n",
    "```\n",
    "HRRN is a hierarchical recurrent neural network, which can model the user-item interactions across a given timeframe. Use the HRNN recipe when user behavior changes over time, which is referred to the evolving intent problem.\n",
    "\n",
    "To train a model, HRNN uses the Interactions dataset from a dataset group. A dataset group is a set of related datasets, which can include the Users, Items, and Interactions datasets.\n",
    "```\n",
    "\n",
    "A paper explaining it more in detail as it relates to recommendations: https://openreview.net/pdf?id=ByzxsrrkJ4 \n",
    "\n",
    "\n",
    "It is used here as an example of a recommendation system built using deep neural networks and can be trained using only our interactions data. This is a great place to start when running your own experiments later as well."
   ]
  },
  {
   "cell_type": "code",
   "execution_count": 17,
   "metadata": {},
   "outputs": [
    {
     "data": {
      "text/plain": [
       "{'recipes': [{'name': 'aws-hrnn',\n",
       "   'recipeArn': 'arn:aws:personalize:::recipe/aws-hrnn',\n",
       "   'status': 'ACTIVE',\n",
       "   'creationDateTime': datetime.datetime(2019, 6, 10, 0, 0, tzinfo=tzlocal()),\n",
       "   'lastUpdatedDateTime': datetime.datetime(2019, 6, 20, 0, 53, 10, 241000, tzinfo=tzlocal())},\n",
       "  {'name': 'aws-hrnn-coldstart',\n",
       "   'recipeArn': 'arn:aws:personalize:::recipe/aws-hrnn-coldstart',\n",
       "   'status': 'ACTIVE',\n",
       "   'creationDateTime': datetime.datetime(2019, 6, 10, 0, 0, tzinfo=tzlocal()),\n",
       "   'lastUpdatedDateTime': datetime.datetime(2019, 6, 20, 0, 53, 10, 241000, tzinfo=tzlocal())},\n",
       "  {'name': 'aws-hrnn-metadata',\n",
       "   'recipeArn': 'arn:aws:personalize:::recipe/aws-hrnn-metadata',\n",
       "   'status': 'ACTIVE',\n",
       "   'creationDateTime': datetime.datetime(2019, 6, 10, 0, 0, tzinfo=tzlocal()),\n",
       "   'lastUpdatedDateTime': datetime.datetime(2019, 6, 20, 0, 53, 10, 241000, tzinfo=tzlocal())},\n",
       "  {'name': 'aws-personalized-ranking',\n",
       "   'recipeArn': 'arn:aws:personalize:::recipe/aws-personalized-ranking',\n",
       "   'status': 'ACTIVE',\n",
       "   'creationDateTime': datetime.datetime(2019, 6, 10, 0, 0, tzinfo=tzlocal()),\n",
       "   'lastUpdatedDateTime': datetime.datetime(2019, 6, 20, 0, 53, 10, 241000, tzinfo=tzlocal())},\n",
       "  {'name': 'aws-popularity-count',\n",
       "   'recipeArn': 'arn:aws:personalize:::recipe/aws-popularity-count',\n",
       "   'status': 'ACTIVE',\n",
       "   'creationDateTime': datetime.datetime(2019, 6, 10, 0, 0, tzinfo=tzlocal()),\n",
       "   'lastUpdatedDateTime': datetime.datetime(2019, 6, 20, 0, 53, 10, 241000, tzinfo=tzlocal())},\n",
       "  {'name': 'aws-sims',\n",
       "   'recipeArn': 'arn:aws:personalize:::recipe/aws-sims',\n",
       "   'status': 'ACTIVE',\n",
       "   'creationDateTime': datetime.datetime(2019, 6, 10, 0, 0, tzinfo=tzlocal()),\n",
       "   'lastUpdatedDateTime': datetime.datetime(2019, 6, 20, 0, 53, 10, 241000, tzinfo=tzlocal())}],\n",
       " 'ResponseMetadata': {'RequestId': '228706c1-0c0b-46b7-a10a-9eb565597a0e',\n",
       "  'HTTPStatusCode': 200,\n",
       "  'HTTPHeaders': {'content-type': 'application/x-amz-json-1.1',\n",
       "   'date': 'Fri, 06 Dec 2019 00:17:08 GMT',\n",
       "   'x-amzn-requestid': '228706c1-0c0b-46b7-a10a-9eb565597a0e',\n",
       "   'content-length': '1067',\n",
       "   'connection': 'keep-alive'},\n",
       "  'RetryAttempts': 0}}"
      ]
     },
     "execution_count": 17,
     "metadata": {},
     "output_type": "execute_result"
    }
   ],
   "source": [
    "personalize.list_recipes()"
   ]
  },
  {
   "cell_type": "markdown",
   "metadata": {},
   "source": [
    "The cell below selects the `HRNN` recipe."
   ]
  },
  {
   "cell_type": "code",
   "execution_count": 18,
   "metadata": {},
   "outputs": [],
   "source": [
    "recipe_arn = \"arn:aws:personalize:::recipe/aws-hrnn\""
   ]
  },
  {
   "cell_type": "markdown",
   "metadata": {},
   "source": [
    "## Training a Solution\n",
    "\n",
    "Within Amazon Personalize a model trained on customer data is called a Solution, these are versioned and so you will first create a Solution, then a Solution Version. The versions are utilized to track model improvement over time based on newer available data. \n",
    "\n",
    "Creating a Solution itself is nearly instantaneous however the actual training to create a version can take a bit of time. This is usually the longest waiting period in the process. If you are doing this outside of a workshop it is a great time to check your emails, grab a coffee, etc."
   ]
  },
  {
   "cell_type": "markdown",
   "metadata": {},
   "source": [
    "#### Create Solution"
   ]
  },
  {
   "cell_type": "code",
   "execution_count": 19,
   "metadata": {},
   "outputs": [
    {
     "name": "stdout",
     "output_type": "stream",
     "text": [
      "{\n",
      "  \"solutionArn\": \"arn:aws:personalize:us-west-2:006215296044:solution/personalize-ri-soln-hrnn\",\n",
      "  \"ResponseMetadata\": {\n",
      "    \"RequestId\": \"ef3e75b1-fd08-4e31-b68e-7596f8f51620\",\n",
      "    \"HTTPStatusCode\": 200,\n",
      "    \"HTTPHeaders\": {\n",
      "      \"content-type\": \"application/x-amz-json-1.1\",\n",
      "      \"date\": \"Fri, 06 Dec 2019 00:19:21 GMT\",\n",
      "      \"x-amzn-requestid\": \"ef3e75b1-fd08-4e31-b68e-7596f8f51620\",\n",
      "      \"content-length\": \"94\",\n",
      "      \"connection\": \"keep-alive\"\n",
      "    },\n",
      "    \"RetryAttempts\": 0\n",
      "  }\n",
      "}\n"
     ]
    }
   ],
   "source": [
    "create_solution_response = personalize.create_solution(\n",
    "    name = \"personalize-ri-soln-hrnn\",\n",
    "    datasetGroupArn = dataset_group_arn,\n",
    "    recipeArn = recipe_arn\n",
    ")\n",
    "\n",
    "solution_arn = create_solution_response['solutionArn']\n",
    "print(json.dumps(create_solution_response, indent=2))"
   ]
  },
  {
   "cell_type": "markdown",
   "metadata": {},
   "source": [
    "#### Create Solution Version"
   ]
  },
  {
   "cell_type": "code",
   "execution_count": 20,
   "metadata": {},
   "outputs": [
    {
     "name": "stdout",
     "output_type": "stream",
     "text": [
      "{\n",
      "  \"solutionVersionArn\": \"arn:aws:personalize:us-west-2:006215296044:solution/personalize-ri-soln-hrnn/4b240807\",\n",
      "  \"ResponseMetadata\": {\n",
      "    \"RequestId\": \"d321dfaf-642c-4c4d-9911-02785d3c0e47\",\n",
      "    \"HTTPStatusCode\": 200,\n",
      "    \"HTTPHeaders\": {\n",
      "      \"content-type\": \"application/x-amz-json-1.1\",\n",
      "      \"date\": \"Fri, 06 Dec 2019 00:19:32 GMT\",\n",
      "      \"x-amzn-requestid\": \"d321dfaf-642c-4c4d-9911-02785d3c0e47\",\n",
      "      \"content-length\": \"110\",\n",
      "      \"connection\": \"keep-alive\"\n",
      "    },\n",
      "    \"RetryAttempts\": 0\n",
      "  }\n",
      "}\n"
     ]
    }
   ],
   "source": [
    "create_solution_version_response = personalize.create_solution_version(\n",
    "    solutionArn = solution_arn\n",
    ")\n",
    "\n",
    "solution_version_arn = create_solution_version_response['solutionVersionArn']\n",
    "print(json.dumps(create_solution_version_response, indent=2))"
   ]
  },
  {
   "cell_type": "markdown",
   "metadata": {},
   "source": [
    "#### Create Solution Version Loop\n",
    "\n",
    "Training a model can take a bit of time, this will often take at least 20 minutes to complete. Run the cell below, again waiting for it to reach an `ACTIVE` state before moving to the next bit."
   ]
  },
  {
   "cell_type": "code",
   "execution_count": 21,
   "metadata": {},
   "outputs": [
    {
     "name": "stdout",
     "output_type": "stream",
     "text": [
      "Training Started on:  12:20:32 AM\n",
      "SolutionVersion: CREATE IN_PROGRESS\n",
      "SolutionVersion: CREATE IN_PROGRESS\n",
      "SolutionVersion: CREATE IN_PROGRESS\n",
      "SolutionVersion: CREATE IN_PROGRESS\n",
      "SolutionVersion: CREATE IN_PROGRESS\n",
      "SolutionVersion: CREATE IN_PROGRESS\n",
      "SolutionVersion: CREATE IN_PROGRESS\n",
      "SolutionVersion: CREATE IN_PROGRESS\n",
      "SolutionVersion: CREATE IN_PROGRESS\n",
      "SolutionVersion: CREATE IN_PROGRESS\n",
      "SolutionVersion: CREATE IN_PROGRESS\n",
      "SolutionVersion: CREATE IN_PROGRESS\n",
      "SolutionVersion: CREATE IN_PROGRESS\n",
      "SolutionVersion: CREATE IN_PROGRESS\n",
      "SolutionVersion: CREATE IN_PROGRESS\n",
      "SolutionVersion: CREATE IN_PROGRESS\n",
      "SolutionVersion: CREATE IN_PROGRESS\n",
      "SolutionVersion: CREATE IN_PROGRESS\n",
      "SolutionVersion: CREATE IN_PROGRESS\n",
      "SolutionVersion: CREATE IN_PROGRESS\n",
      "SolutionVersion: CREATE IN_PROGRESS\n",
      "SolutionVersion: CREATE IN_PROGRESS\n",
      "SolutionVersion: CREATE IN_PROGRESS\n",
      "SolutionVersion: CREATE IN_PROGRESS\n",
      "SolutionVersion: CREATE IN_PROGRESS\n",
      "SolutionVersion: CREATE IN_PROGRESS\n",
      "SolutionVersion: CREATE IN_PROGRESS\n",
      "SolutionVersion: CREATE IN_PROGRESS\n",
      "SolutionVersion: CREATE IN_PROGRESS\n",
      "SolutionVersion: CREATE IN_PROGRESS\n",
      "SolutionVersion: CREATE IN_PROGRESS\n",
      "SolutionVersion: CREATE IN_PROGRESS\n",
      "SolutionVersion: CREATE IN_PROGRESS\n",
      "SolutionVersion: CREATE IN_PROGRESS\n",
      "SolutionVersion: CREATE IN_PROGRESS\n",
      "SolutionVersion: CREATE IN_PROGRESS\n",
      "SolutionVersion: CREATE IN_PROGRESS\n",
      "SolutionVersion: CREATE IN_PROGRESS\n",
      "SolutionVersion: ACTIVE\n",
      "Training Completed on:  12:58:35 AM\n"
     ]
    }
   ],
   "source": [
    "current_time = datetime.datetime.now()\n",
    "print(\"Training Started on: \", current_time.strftime(\"%I:%M:%S %p\"))\n",
    "\n",
    "max_time = time.time() + 3*60*60 # 3 hours\n",
    "while time.time() < max_time:\n",
    "    describe_solution_version_response = personalize.describe_solution_version(\n",
    "        solutionVersionArn = solution_version_arn\n",
    "    )\n",
    "    status = describe_solution_version_response[\"solutionVersion\"][\"status\"]\n",
    "    print(\"SolutionVersion: {}\".format(status))\n",
    "    \n",
    "    if status == \"ACTIVE\" or status == \"CREATE FAILED\":\n",
    "        break\n",
    "        \n",
    "    time.sleep(60)\n",
    "    \n",
    "current_time = datetime.datetime.now()\n",
    "print(\"Training Completed on: \", current_time.strftime(\"%I:%M:%S %p\"))"
   ]
  },
  {
   "cell_type": "markdown",
   "metadata": {},
   "source": [
    "#### Get Metrics of Solution Version\n",
    "\n",
    "Now that your solution and version exists, you can obtain the metrics for it to judge its performance."
   ]
  },
  {
   "cell_type": "code",
   "execution_count": 26,
   "metadata": {},
   "outputs": [
    {
     "name": "stdout",
     "output_type": "stream",
     "text": [
      "{\n",
      "  \"solutionVersionArn\": \"arn:aws:personalize:us-west-2:006215296044:solution/personalize-ri-soln-hrnn/4b240807\",\n",
      "  \"metrics\": {\n",
      "    \"coverage\": 0.3531,\n",
      "    \"mean_reciprocal_rank_at_25\": 0.0326,\n",
      "    \"normalized_discounted_cumulative_gain_at_10\": 0.0547,\n",
      "    \"normalized_discounted_cumulative_gain_at_25\": 0.0811,\n",
      "    \"normalized_discounted_cumulative_gain_at_5\": 0.0463,\n",
      "    \"precision_at_10\": 0.0101,\n",
      "    \"precision_at_25\": 0.0085,\n",
      "    \"precision_at_5\": 0.0157\n",
      "  },\n",
      "  \"ResponseMetadata\": {\n",
      "    \"RequestId\": \"5e53952a-a94b-48af-acc7-7a5b160eb9a7\",\n",
      "    \"HTTPStatusCode\": 200,\n",
      "    \"HTTPHeaders\": {\n",
      "      \"content-type\": \"application/x-amz-json-1.1\",\n",
      "      \"date\": \"Fri, 06 Dec 2019 01:15:16 GMT\",\n",
      "      \"x-amzn-requestid\": \"5e53952a-a94b-48af-acc7-7a5b160eb9a7\",\n",
      "      \"content-length\": \"408\",\n",
      "      \"connection\": \"keep-alive\"\n",
      "    },\n",
      "    \"RetryAttempts\": 0\n",
      "  }\n",
      "}\n"
     ]
    }
   ],
   "source": [
    "get_solution_metrics_response = personalize.get_solution_metrics(\n",
    "    solutionVersionArn = solution_version_arn\n",
    ")\n",
    "\n",
    "print(json.dumps(get_solution_metrics_response, indent=2))"
   ]
  },
  {
   "cell_type": "markdown",
   "metadata": {},
   "source": [
    "## Create and Wait for the Campaign\n",
    "\n",
    "Now that you have a working solution version you will need to create a campaign to use it with your applications. A campaign is simply a hosted copy of your model. Again there will be a short wait so after executing you can take a quick break while the infrastructure is being provisioned."
   ]
  },
  {
   "cell_type": "markdown",
   "metadata": {},
   "source": [
    "#### Create Campaign"
   ]
  },
  {
   "cell_type": "code",
   "execution_count": 27,
   "metadata": {},
   "outputs": [
    {
     "ename": "ResourceAlreadyExistsException",
     "evalue": "An error occurred (ResourceAlreadyExistsException) when calling the CreateCampaign operation: Another resource with Arn arn:aws:personalize:us-west-2:006215296044:campaign/personalize-ri-camp already exists.",
     "output_type": "error",
     "traceback": [
      "\u001b[0;31m---------------------------------------------------------------------------\u001b[0m",
      "\u001b[0;31mResourceAlreadyExistsException\u001b[0m            Traceback (most recent call last)",
      "\u001b[0;32m<ipython-input-27-26d36197b8cd>\u001b[0m in \u001b[0;36m<module>\u001b[0;34m()\u001b[0m\n\u001b[1;32m      2\u001b[0m     \u001b[0mname\u001b[0m \u001b[0;34m=\u001b[0m \u001b[0;34m\"personalize-ri-camp\"\u001b[0m\u001b[0;34m,\u001b[0m\u001b[0;34m\u001b[0m\u001b[0m\n\u001b[1;32m      3\u001b[0m     \u001b[0msolutionVersionArn\u001b[0m \u001b[0;34m=\u001b[0m \u001b[0msolution_version_arn\u001b[0m\u001b[0;34m,\u001b[0m\u001b[0;34m\u001b[0m\u001b[0m\n\u001b[0;32m----> 4\u001b[0;31m     \u001b[0mminProvisionedTPS\u001b[0m \u001b[0;34m=\u001b[0m \u001b[0;36m1\u001b[0m\u001b[0;34m\u001b[0m\u001b[0m\n\u001b[0m\u001b[1;32m      5\u001b[0m )\n\u001b[1;32m      6\u001b[0m \u001b[0;34m\u001b[0m\u001b[0m\n",
      "\u001b[0;32m~/anaconda3/envs/python3/lib/python3.6/site-packages/botocore/client.py\u001b[0m in \u001b[0;36m_api_call\u001b[0;34m(self, *args, **kwargs)\u001b[0m\n\u001b[1;32m    270\u001b[0m                     \"%s() only accepts keyword arguments.\" % py_operation_name)\n\u001b[1;32m    271\u001b[0m             \u001b[0;31m# The \"self\" in this scope is referring to the BaseClient.\u001b[0m\u001b[0;34m\u001b[0m\u001b[0;34m\u001b[0m\u001b[0m\n\u001b[0;32m--> 272\u001b[0;31m             \u001b[0;32mreturn\u001b[0m \u001b[0mself\u001b[0m\u001b[0;34m.\u001b[0m\u001b[0m_make_api_call\u001b[0m\u001b[0;34m(\u001b[0m\u001b[0moperation_name\u001b[0m\u001b[0;34m,\u001b[0m \u001b[0mkwargs\u001b[0m\u001b[0;34m)\u001b[0m\u001b[0;34m\u001b[0m\u001b[0m\n\u001b[0m\u001b[1;32m    273\u001b[0m \u001b[0;34m\u001b[0m\u001b[0m\n\u001b[1;32m    274\u001b[0m         \u001b[0m_api_call\u001b[0m\u001b[0;34m.\u001b[0m\u001b[0m__name__\u001b[0m \u001b[0;34m=\u001b[0m \u001b[0mstr\u001b[0m\u001b[0;34m(\u001b[0m\u001b[0mpy_operation_name\u001b[0m\u001b[0;34m)\u001b[0m\u001b[0;34m\u001b[0m\u001b[0m\n",
      "\u001b[0;32m~/anaconda3/envs/python3/lib/python3.6/site-packages/botocore/client.py\u001b[0m in \u001b[0;36m_make_api_call\u001b[0;34m(self, operation_name, api_params)\u001b[0m\n\u001b[1;32m    574\u001b[0m             \u001b[0merror_code\u001b[0m \u001b[0;34m=\u001b[0m \u001b[0mparsed_response\u001b[0m\u001b[0;34m.\u001b[0m\u001b[0mget\u001b[0m\u001b[0;34m(\u001b[0m\u001b[0;34m\"Error\"\u001b[0m\u001b[0;34m,\u001b[0m \u001b[0;34m{\u001b[0m\u001b[0;34m}\u001b[0m\u001b[0;34m)\u001b[0m\u001b[0;34m.\u001b[0m\u001b[0mget\u001b[0m\u001b[0;34m(\u001b[0m\u001b[0;34m\"Code\"\u001b[0m\u001b[0;34m)\u001b[0m\u001b[0;34m\u001b[0m\u001b[0m\n\u001b[1;32m    575\u001b[0m             \u001b[0merror_class\u001b[0m \u001b[0;34m=\u001b[0m \u001b[0mself\u001b[0m\u001b[0;34m.\u001b[0m\u001b[0mexceptions\u001b[0m\u001b[0;34m.\u001b[0m\u001b[0mfrom_code\u001b[0m\u001b[0;34m(\u001b[0m\u001b[0merror_code\u001b[0m\u001b[0;34m)\u001b[0m\u001b[0;34m\u001b[0m\u001b[0m\n\u001b[0;32m--> 576\u001b[0;31m             \u001b[0;32mraise\u001b[0m \u001b[0merror_class\u001b[0m\u001b[0;34m(\u001b[0m\u001b[0mparsed_response\u001b[0m\u001b[0;34m,\u001b[0m \u001b[0moperation_name\u001b[0m\u001b[0;34m)\u001b[0m\u001b[0;34m\u001b[0m\u001b[0m\n\u001b[0m\u001b[1;32m    577\u001b[0m         \u001b[0;32melse\u001b[0m\u001b[0;34m:\u001b[0m\u001b[0;34m\u001b[0m\u001b[0m\n\u001b[1;32m    578\u001b[0m             \u001b[0;32mreturn\u001b[0m \u001b[0mparsed_response\u001b[0m\u001b[0;34m\u001b[0m\u001b[0m\n",
      "\u001b[0;31mResourceAlreadyExistsException\u001b[0m: An error occurred (ResourceAlreadyExistsException) when calling the CreateCampaign operation: Another resource with Arn arn:aws:personalize:us-west-2:006215296044:campaign/personalize-ri-camp already exists."
     ]
    }
   ],
   "source": [
    "create_campaign_response = personalize.create_campaign(\n",
    "    name = \"personalize-ri-camp\",\n",
    "    solutionVersionArn = solution_version_arn,\n",
    "    minProvisionedTPS = 1\n",
    ")\n",
    "\n",
    "campaign_arn = create_campaign_response['campaignArn']\n",
    "print(json.dumps(create_campaign_response, indent=2))"
   ]
  },
  {
   "cell_type": "markdown",
   "metadata": {},
   "source": [
    "#### Wait for Campaign to Have ACTIVE Status\n",
    "\n",
    "#### Create a Campaign Loop\n",
    "\n",
    "In this section Personalize is deploying your model and that takes a few minutes to complete. Execute the cell below to agian poll until the task has completed. It should take 10 to 15 minutes. Once the cell has reached an `ACTIVE` state, continue on."
   ]
  },
  {
   "cell_type": "code",
   "execution_count": 28,
   "metadata": {},
   "outputs": [
    {
     "name": "stdout",
     "output_type": "stream",
     "text": [
      "Deploying Started on:  01:16:10 AM\n",
      "Campaign: ACTIVE\n",
      "Deploying Completed on:  01:16:11 AM\n"
     ]
    }
   ],
   "source": [
    "current_time = datetime.datetime.now()\n",
    "print(\"Deploying Started on: \", current_time.strftime(\"%I:%M:%S %p\"))\n",
    "\n",
    "max_time = time.time() + 3*60*60 # 3 hours\n",
    "while time.time() < max_time:\n",
    "    describe_campaign_response = personalize.describe_campaign(\n",
    "        campaignArn = campaign_arn\n",
    "    )\n",
    "    status = describe_campaign_response[\"campaign\"][\"status\"]\n",
    "    print(\"Campaign: {}\".format(status))\n",
    "    \n",
    "    if status == \"ACTIVE\" or status == \"CREATE FAILED\":\n",
    "        break\n",
    "        \n",
    "    time.sleep(60)\n",
    "    \n",
    "current_time = datetime.datetime.now()\n",
    "print(\"Deploying Completed on: \", current_time.strftime(\"%I:%M:%S %p\"))"
   ]
  },
  {
   "cell_type": "markdown",
   "metadata": {},
   "source": [
    "## Get Sample Recommendations\n",
    "\n",
    "After the campaign is active you are ready to get recommendations. First we need to select a random user from the collection. Then we will create a few helper functions for getting movie information to show for recommendations instead of just IDs."
   ]
  },
  {
   "cell_type": "code",
   "execution_count": 32,
   "metadata": {},
   "outputs": [
    {
     "name": "stdout",
     "output_type": "stream",
     "text": [
      "USER: 158\n"
     ]
    }
   ],
   "source": [
    "# Getting a random user:\n",
    "user_id, item_id, _ = data.sample().values[0]\n",
    "print(\"USER: {}\".format(user_id))"
   ]
  },
  {
   "cell_type": "code",
   "execution_count": 33,
   "metadata": {},
   "outputs": [],
   "source": [
    "items = pd.read_csv('./ml-100k/u.item', sep='|', usecols=[0,1], encoding='latin-1', names=['ITEM_ID', 'TITLE'], index_col='ITEM_ID')\n",
    "\n",
    "def get_movie_title(movie_id):\n",
    "    \"\"\"\n",
    "    Takes in an ID, returns a title\n",
    "    \"\"\"\n",
    "    movie_id = int(movie_id)\n",
    "    return items.iloc[movie_id]['TITLE']"
   ]
  },
  {
   "cell_type": "markdown",
   "metadata": {},
   "source": [
    "#### Call GetRecommendations\n",
    "\n",
    "The code below will get recommendations for the random user selected, it then places the recommendations in a dataframe and renders it."
   ]
  },
  {
   "cell_type": "code",
   "execution_count": 36,
   "metadata": {},
   "outputs": [
    {
     "data": {
      "text/plain": [
       "(283, 'Tin Cup (1996)')"
      ]
     },
     "execution_count": 36,
     "metadata": {},
     "output_type": "execute_result"
    }
   ],
   "source": [
    "item_id, get_movie_title(item_id)"
   ]
  },
  {
   "cell_type": "code",
   "execution_count": 34,
   "metadata": {},
   "outputs": [
    {
     "name": "stdout",
     "output_type": "stream",
     "text": [
      "Recommendations for user:  158\n"
     ]
    },
    {
     "data": {
      "text/html": [
       "<div>\n",
       "<style scoped>\n",
       "    .dataframe tbody tr th:only-of-type {\n",
       "        vertical-align: middle;\n",
       "    }\n",
       "\n",
       "    .dataframe tbody tr th {\n",
       "        vertical-align: top;\n",
       "    }\n",
       "\n",
       "    .dataframe thead th {\n",
       "        text-align: right;\n",
       "    }\n",
       "</style>\n",
       "<table border=\"1\" class=\"dataframe\">\n",
       "  <thead>\n",
       "    <tr style=\"text-align: right;\">\n",
       "      <th></th>\n",
       "      <th>Original Recommendations</th>\n",
       "    </tr>\n",
       "  </thead>\n",
       "  <tbody>\n",
       "    <tr>\n",
       "      <th>0</th>\n",
       "      <td>Blade Runner (1982)</td>\n",
       "    </tr>\n",
       "    <tr>\n",
       "      <th>1</th>\n",
       "      <td>Jane Eyre (1996)</td>\n",
       "    </tr>\n",
       "    <tr>\n",
       "      <th>2</th>\n",
       "      <td>Jaws 2 (1978)</td>\n",
       "    </tr>\n",
       "    <tr>\n",
       "      <th>3</th>\n",
       "      <td>Radioland Murders (1994)</td>\n",
       "    </tr>\n",
       "    <tr>\n",
       "      <th>4</th>\n",
       "      <td>Reservoir Dogs (1992)</td>\n",
       "    </tr>\n",
       "    <tr>\n",
       "      <th>5</th>\n",
       "      <td>Shawshank Redemption, The (1994)</td>\n",
       "    </tr>\n",
       "    <tr>\n",
       "      <th>6</th>\n",
       "      <td>Nightmare Before Christmas, The (1993)</td>\n",
       "    </tr>\n",
       "    <tr>\n",
       "      <th>7</th>\n",
       "      <td>Star Wars (1977)</td>\n",
       "    </tr>\n",
       "    <tr>\n",
       "      <th>8</th>\n",
       "      <td>Little Odessa (1994)</td>\n",
       "    </tr>\n",
       "    <tr>\n",
       "      <th>9</th>\n",
       "      <td>Maverick (1994)</td>\n",
       "    </tr>\n",
       "    <tr>\n",
       "      <th>10</th>\n",
       "      <td>Aladdin (1992)</td>\n",
       "    </tr>\n",
       "    <tr>\n",
       "      <th>11</th>\n",
       "      <td>Monty Python and the Holy Grail (1974)</td>\n",
       "    </tr>\n",
       "    <tr>\n",
       "      <th>12</th>\n",
       "      <td>Ghost (1990)</td>\n",
       "    </tr>\n",
       "    <tr>\n",
       "      <th>13</th>\n",
       "      <td>Age of Innocence, The (1993)</td>\n",
       "    </tr>\n",
       "    <tr>\n",
       "      <th>14</th>\n",
       "      <td>Crow, The (1994)</td>\n",
       "    </tr>\n",
       "    <tr>\n",
       "      <th>15</th>\n",
       "      <td>Naked (1993)</td>\n",
       "    </tr>\n",
       "    <tr>\n",
       "      <th>16</th>\n",
       "      <td>Georgia (1995)</td>\n",
       "    </tr>\n",
       "    <tr>\n",
       "      <th>17</th>\n",
       "      <td>Home for the Holidays (1995)</td>\n",
       "    </tr>\n",
       "    <tr>\n",
       "      <th>18</th>\n",
       "      <td>Bio-Dome (1996)</td>\n",
       "    </tr>\n",
       "    <tr>\n",
       "      <th>19</th>\n",
       "      <td>Nell (1994)</td>\n",
       "    </tr>\n",
       "    <tr>\n",
       "      <th>20</th>\n",
       "      <td>Batman (1989)</td>\n",
       "    </tr>\n",
       "    <tr>\n",
       "      <th>21</th>\n",
       "      <td>Remains of the Day, The (1993)</td>\n",
       "    </tr>\n",
       "    <tr>\n",
       "      <th>22</th>\n",
       "      <td>Just Cause (1995)</td>\n",
       "    </tr>\n",
       "    <tr>\n",
       "      <th>23</th>\n",
       "      <td>Sound of Music, The (1965)</td>\n",
       "    </tr>\n",
       "    <tr>\n",
       "      <th>24</th>\n",
       "      <td>Boys on the Side (1995)</td>\n",
       "    </tr>\n",
       "  </tbody>\n",
       "</table>\n",
       "</div>"
      ],
      "text/plain": [
       "                  Original Recommendations\n",
       "0                      Blade Runner (1982)\n",
       "1                         Jane Eyre (1996)\n",
       "2                            Jaws 2 (1978)\n",
       "3                 Radioland Murders (1994)\n",
       "4                    Reservoir Dogs (1992)\n",
       "5         Shawshank Redemption, The (1994)\n",
       "6   Nightmare Before Christmas, The (1993)\n",
       "7                         Star Wars (1977)\n",
       "8                     Little Odessa (1994)\n",
       "9                          Maverick (1994)\n",
       "10                          Aladdin (1992)\n",
       "11  Monty Python and the Holy Grail (1974)\n",
       "12                            Ghost (1990)\n",
       "13            Age of Innocence, The (1993)\n",
       "14                        Crow, The (1994)\n",
       "15                            Naked (1993)\n",
       "16                          Georgia (1995)\n",
       "17            Home for the Holidays (1995)\n",
       "18                         Bio-Dome (1996)\n",
       "19                             Nell (1994)\n",
       "20                           Batman (1989)\n",
       "21          Remains of the Day, The (1993)\n",
       "22                       Just Cause (1995)\n",
       "23              Sound of Music, The (1965)\n",
       "24                 Boys on the Side (1995)"
      ]
     },
     "execution_count": 34,
     "metadata": {},
     "output_type": "execute_result"
    }
   ],
   "source": [
    "get_recommendations_response = personalize_runtime.get_recommendations(\n",
    "    campaignArn = campaign_arn,\n",
    "    userId = str(user_id),\n",
    ")\n",
    "# Update DF rendering\n",
    "pd.set_option('display.max_rows', 30)\n",
    "\n",
    "print(\"Recommendations for user: \", user_id)\n",
    "\n",
    "item_list = get_recommendations_response['itemList']\n",
    "\n",
    "recommendation_list = []\n",
    "\n",
    "for item in item_list:\n",
    "    title = get_movie_title(item['itemId'])\n",
    "    recommendation_list.append(title)\n",
    "    \n",
    "recommendations_df = pd.DataFrame(recommendation_list, columns = ['Original Recommendations'])\n",
    "recommendations_df"
   ]
  },
  {
   "cell_type": "markdown",
   "metadata": {},
   "source": [
    "## Creating an Event Tracker\n",
    "\n",
    "Before your recommendation system can respond to real time events you will need an event tracker, the code below will generate one and can be used going forward with this lab. Feel free to name it something more clever."
   ]
  },
  {
   "cell_type": "code",
   "execution_count": 37,
   "metadata": {},
   "outputs": [
    {
     "name": "stdout",
     "output_type": "stream",
     "text": [
      "arn:aws:personalize:us-west-2:006215296044:event-tracker/1220c3c5\n",
      "5c106a6f-0727-4b86-ac0f-95988de39e5e\n"
     ]
    }
   ],
   "source": [
    "response = personalize.create_event_tracker(\n",
    "    name='MovieClickTrackerRI',\n",
    "    datasetGroupArn=dataset_group_arn\n",
    ")\n",
    "print(response['eventTrackerArn'])\n",
    "print(response['trackingId'])\n",
    "TRACKING_ID = response['trackingId']"
   ]
  },
  {
   "cell_type": "code",
   "execution_count": 38,
   "metadata": {},
   "outputs": [],
   "source": [
    "event_tracker_arn = response['eventTrackerArn']"
   ]
  },
  {
   "cell_type": "markdown",
   "metadata": {},
   "source": [
    "## Simulating User Behavior\n",
    "\n",
    "The lines below provide a code sample that simulates a user interacting with a particular item, you will then get recommendations that differ from those when you started."
   ]
  },
  {
   "cell_type": "code",
   "execution_count": 39,
   "metadata": {},
   "outputs": [],
   "source": [
    "session_dict = {}"
   ]
  },
  {
   "cell_type": "code",
   "execution_count": 40,
   "metadata": {},
   "outputs": [],
   "source": [
    "def send_movie_click(USER_ID, ITEM_ID):\n",
    "    \"\"\"\n",
    "    Simulates a click as an envent\n",
    "    to send an event to Amazon Personalize's Event Tracker\n",
    "    \"\"\"\n",
    "    # Configure Session\n",
    "    try:\n",
    "        session_ID = session_dict[USER_ID]\n",
    "    except:\n",
    "        session_dict[USER_ID] = str(uuid.uuid1())\n",
    "        session_ID = session_dict[USER_ID]\n",
    "        \n",
    "    # Configure Properties:\n",
    "    event = {\n",
    "    \"itemId\": str(ITEM_ID),\n",
    "    }\n",
    "    event_json = json.dumps(event)\n",
    "        \n",
    "    # Make Call\n",
    "    personalize_events.put_events(\n",
    "    trackingId = TRACKING_ID,\n",
    "    userId= USER_ID,\n",
    "    sessionId = session_ID,\n",
    "    eventList = [{\n",
    "        'sentAt': int(time.time()),\n",
    "        'eventType': 'EVENT_TYPE',\n",
    "        'properties': event_json\n",
    "        }]\n",
    "    )\n",
    "\n",
    "def get_new_recommendations_df(recommendations_df, movie_ID):\n",
    "    # Get the title of the movie for the header of the column\n",
    "    movie_title_clicked = get_movie_title(movie_to_click)\n",
    "    # Interact with the movie\n",
    "    send_movie_click(USER_ID=str(user_id), ITEM_ID=movie_to_click)\n",
    "    # Sleep for 2 seconds\n",
    "    time.sleep(2)\n",
    "    # Get new recommendations\n",
    "    get_recommendations_response = personalize_runtime.get_recommendations(\n",
    "        campaignArn = campaign_arn,\n",
    "        userId = str(user_id),\n",
    "    )\n",
    "    # Build a new dataframe of recommendations\n",
    "    item_list = get_recommendations_response['itemList']\n",
    "    recommendation_list = []\n",
    "    for item in item_list:\n",
    "        title = get_movie_title(item['itemId'])\n",
    "        recommendation_list.append(title)\n",
    "    new_rec_DF = pd.DataFrame(recommendation_list, columns = [movie_title_clicked])\n",
    "    # Add this dataframe to the old one\n",
    "    recommendations_df = recommendations_df.join(new_rec_DF)\n",
    "    return recommendations_df"
   ]
  },
  {
   "cell_type": "markdown",
   "metadata": {},
   "source": [
    "The 3 cells below will simulate adding a movie ot the dataset and then rendering the results after each interaction. The first column is the original recommendations, the subsequent columns are for each movie that your user has now interacted with. The column header is the name of the movie that the user interacted with, and you can then see how the recommendations are altered."
   ]
  },
  {
   "cell_type": "code",
   "execution_count": 41,
   "metadata": {},
   "outputs": [
    {
     "data": {
      "text/html": [
       "<div>\n",
       "<style scoped>\n",
       "    .dataframe tbody tr th:only-of-type {\n",
       "        vertical-align: middle;\n",
       "    }\n",
       "\n",
       "    .dataframe tbody tr th {\n",
       "        vertical-align: top;\n",
       "    }\n",
       "\n",
       "    .dataframe thead th {\n",
       "        text-align: right;\n",
       "    }\n",
       "</style>\n",
       "<table border=\"1\" class=\"dataframe\">\n",
       "  <thead>\n",
       "    <tr style=\"text-align: right;\">\n",
       "      <th></th>\n",
       "      <th>Original Recommendations</th>\n",
       "      <th>Return of the Jedi (1983)</th>\n",
       "    </tr>\n",
       "  </thead>\n",
       "  <tbody>\n",
       "    <tr>\n",
       "      <th>0</th>\n",
       "      <td>Blade Runner (1982)</td>\n",
       "      <td>Bio-Dome (1996)</td>\n",
       "    </tr>\n",
       "    <tr>\n",
       "      <th>1</th>\n",
       "      <td>Jane Eyre (1996)</td>\n",
       "      <td>High Noon (1952)</td>\n",
       "    </tr>\n",
       "    <tr>\n",
       "      <th>2</th>\n",
       "      <td>Jaws 2 (1978)</td>\n",
       "      <td>Ace Ventura: Pet Detective (1994)</td>\n",
       "    </tr>\n",
       "    <tr>\n",
       "      <th>3</th>\n",
       "      <td>Radioland Murders (1994)</td>\n",
       "      <td>Forbidden Planet (1956)</td>\n",
       "    </tr>\n",
       "    <tr>\n",
       "      <th>4</th>\n",
       "      <td>Reservoir Dogs (1992)</td>\n",
       "      <td>Radioland Murders (1994)</td>\n",
       "    </tr>\n",
       "    <tr>\n",
       "      <th>5</th>\n",
       "      <td>Shawshank Redemption, The (1994)</td>\n",
       "      <td>Young Guns (1988)</td>\n",
       "    </tr>\n",
       "    <tr>\n",
       "      <th>6</th>\n",
       "      <td>Nightmare Before Christmas, The (1993)</td>\n",
       "      <td>Go Fish (1994)</td>\n",
       "    </tr>\n",
       "    <tr>\n",
       "      <th>7</th>\n",
       "      <td>Star Wars (1977)</td>\n",
       "      <td>Mask, The (1994)</td>\n",
       "    </tr>\n",
       "    <tr>\n",
       "      <th>8</th>\n",
       "      <td>Little Odessa (1994)</td>\n",
       "      <td>Copycat (1995)</td>\n",
       "    </tr>\n",
       "    <tr>\n",
       "      <th>9</th>\n",
       "      <td>Maverick (1994)</td>\n",
       "      <td>Blade Runner (1982)</td>\n",
       "    </tr>\n",
       "    <tr>\n",
       "      <th>10</th>\n",
       "      <td>Aladdin (1992)</td>\n",
       "      <td>Batman (1989)</td>\n",
       "    </tr>\n",
       "    <tr>\n",
       "      <th>11</th>\n",
       "      <td>Monty Python and the Holy Grail (1974)</td>\n",
       "      <td>Crumb (1994)</td>\n",
       "    </tr>\n",
       "    <tr>\n",
       "      <th>12</th>\n",
       "      <td>Ghost (1990)</td>\n",
       "      <td>Batman Returns (1992)</td>\n",
       "    </tr>\n",
       "    <tr>\n",
       "      <th>13</th>\n",
       "      <td>Age of Innocence, The (1993)</td>\n",
       "      <td>Jaws 2 (1978)</td>\n",
       "    </tr>\n",
       "    <tr>\n",
       "      <th>14</th>\n",
       "      <td>Crow, The (1994)</td>\n",
       "      <td>Apocalypse Now (1979)</td>\n",
       "    </tr>\n",
       "    <tr>\n",
       "      <th>15</th>\n",
       "      <td>Naked (1993)</td>\n",
       "      <td>Beavis and Butt-head Do America (1996)</td>\n",
       "    </tr>\n",
       "    <tr>\n",
       "      <th>16</th>\n",
       "      <td>Georgia (1995)</td>\n",
       "      <td>Mission: Impossible (1996)</td>\n",
       "    </tr>\n",
       "    <tr>\n",
       "      <th>17</th>\n",
       "      <td>Home for the Holidays (1995)</td>\n",
       "      <td>Harold and Maude (1971)</td>\n",
       "    </tr>\n",
       "    <tr>\n",
       "      <th>18</th>\n",
       "      <td>Bio-Dome (1996)</td>\n",
       "      <td>True Romance (1993)</td>\n",
       "    </tr>\n",
       "    <tr>\n",
       "      <th>19</th>\n",
       "      <td>Nell (1994)</td>\n",
       "      <td>This Is Spinal Tap (1984)</td>\n",
       "    </tr>\n",
       "    <tr>\n",
       "      <th>20</th>\n",
       "      <td>Batman (1989)</td>\n",
       "      <td>Age of Innocence, The (1993)</td>\n",
       "    </tr>\n",
       "    <tr>\n",
       "      <th>21</th>\n",
       "      <td>Remains of the Day, The (1993)</td>\n",
       "      <td>Sneakers (1992)</td>\n",
       "    </tr>\n",
       "    <tr>\n",
       "      <th>22</th>\n",
       "      <td>Just Cause (1995)</td>\n",
       "      <td>Alice in Wonderland (1951)</td>\n",
       "    </tr>\n",
       "    <tr>\n",
       "      <th>23</th>\n",
       "      <td>Sound of Music, The (1965)</td>\n",
       "      <td>Bananas (1971)</td>\n",
       "    </tr>\n",
       "    <tr>\n",
       "      <th>24</th>\n",
       "      <td>Boys on the Side (1995)</td>\n",
       "      <td>On Golden Pond (1981)</td>\n",
       "    </tr>\n",
       "  </tbody>\n",
       "</table>\n",
       "</div>"
      ],
      "text/plain": [
       "                  Original Recommendations  \\\n",
       "0                      Blade Runner (1982)   \n",
       "1                         Jane Eyre (1996)   \n",
       "2                            Jaws 2 (1978)   \n",
       "3                 Radioland Murders (1994)   \n",
       "4                    Reservoir Dogs (1992)   \n",
       "5         Shawshank Redemption, The (1994)   \n",
       "6   Nightmare Before Christmas, The (1993)   \n",
       "7                         Star Wars (1977)   \n",
       "8                     Little Odessa (1994)   \n",
       "9                          Maverick (1994)   \n",
       "10                          Aladdin (1992)   \n",
       "11  Monty Python and the Holy Grail (1974)   \n",
       "12                            Ghost (1990)   \n",
       "13            Age of Innocence, The (1993)   \n",
       "14                        Crow, The (1994)   \n",
       "15                            Naked (1993)   \n",
       "16                          Georgia (1995)   \n",
       "17            Home for the Holidays (1995)   \n",
       "18                         Bio-Dome (1996)   \n",
       "19                             Nell (1994)   \n",
       "20                           Batman (1989)   \n",
       "21          Remains of the Day, The (1993)   \n",
       "22                       Just Cause (1995)   \n",
       "23              Sound of Music, The (1965)   \n",
       "24                 Boys on the Side (1995)   \n",
       "\n",
       "                 Return of the Jedi (1983)  \n",
       "0                          Bio-Dome (1996)  \n",
       "1                         High Noon (1952)  \n",
       "2        Ace Ventura: Pet Detective (1994)  \n",
       "3                  Forbidden Planet (1956)  \n",
       "4                 Radioland Murders (1994)  \n",
       "5                        Young Guns (1988)  \n",
       "6                           Go Fish (1994)  \n",
       "7                         Mask, The (1994)  \n",
       "8                           Copycat (1995)  \n",
       "9                      Blade Runner (1982)  \n",
       "10                           Batman (1989)  \n",
       "11                            Crumb (1994)  \n",
       "12                   Batman Returns (1992)  \n",
       "13                           Jaws 2 (1978)  \n",
       "14                   Apocalypse Now (1979)  \n",
       "15  Beavis and Butt-head Do America (1996)  \n",
       "16              Mission: Impossible (1996)  \n",
       "17                 Harold and Maude (1971)  \n",
       "18                     True Romance (1993)  \n",
       "19               This Is Spinal Tap (1984)  \n",
       "20            Age of Innocence, The (1993)  \n",
       "21                         Sneakers (1992)  \n",
       "22              Alice in Wonderland (1951)  \n",
       "23                          Bananas (1971)  \n",
       "24                   On Golden Pond (1981)  "
      ]
     },
     "execution_count": 41,
     "metadata": {},
     "output_type": "execute_result"
    }
   ],
   "source": [
    "movie_to_click = 180\n",
    "recommendations_df = get_new_recommendations_df(recommendations_df, movie_to_click)\n",
    "recommendations_df"
   ]
  },
  {
   "cell_type": "code",
   "execution_count": 42,
   "metadata": {},
   "outputs": [
    {
     "data": {
      "text/html": [
       "<div>\n",
       "<style scoped>\n",
       "    .dataframe tbody tr th:only-of-type {\n",
       "        vertical-align: middle;\n",
       "    }\n",
       "\n",
       "    .dataframe tbody tr th {\n",
       "        vertical-align: top;\n",
       "    }\n",
       "\n",
       "    .dataframe thead th {\n",
       "        text-align: right;\n",
       "    }\n",
       "</style>\n",
       "<table border=\"1\" class=\"dataframe\">\n",
       "  <thead>\n",
       "    <tr style=\"text-align: right;\">\n",
       "      <th></th>\n",
       "      <th>Original Recommendations</th>\n",
       "      <th>Return of the Jedi (1983)</th>\n",
       "      <th>M*A*S*H (1970)</th>\n",
       "    </tr>\n",
       "  </thead>\n",
       "  <tbody>\n",
       "    <tr>\n",
       "      <th>0</th>\n",
       "      <td>Blade Runner (1982)</td>\n",
       "      <td>Bio-Dome (1996)</td>\n",
       "      <td>Star Trek III: The Search for Spock (1984)</td>\n",
       "    </tr>\n",
       "    <tr>\n",
       "      <th>1</th>\n",
       "      <td>Jane Eyre (1996)</td>\n",
       "      <td>High Noon (1952)</td>\n",
       "      <td>Radioland Murders (1994)</td>\n",
       "    </tr>\n",
       "    <tr>\n",
       "      <th>2</th>\n",
       "      <td>Jaws 2 (1978)</td>\n",
       "      <td>Ace Ventura: Pet Detective (1994)</td>\n",
       "      <td>Mask, The (1994)</td>\n",
       "    </tr>\n",
       "    <tr>\n",
       "      <th>3</th>\n",
       "      <td>Radioland Murders (1994)</td>\n",
       "      <td>Forbidden Planet (1956)</td>\n",
       "      <td>Children of the Corn: The Gathering (1996)</td>\n",
       "    </tr>\n",
       "    <tr>\n",
       "      <th>4</th>\n",
       "      <td>Reservoir Dogs (1992)</td>\n",
       "      <td>Radioland Murders (1994)</td>\n",
       "      <td>Much Ado About Nothing (1993)</td>\n",
       "    </tr>\n",
       "    <tr>\n",
       "      <th>5</th>\n",
       "      <td>Shawshank Redemption, The (1994)</td>\n",
       "      <td>Young Guns (1988)</td>\n",
       "      <td>Dances with Wolves (1990)</td>\n",
       "    </tr>\n",
       "    <tr>\n",
       "      <th>6</th>\n",
       "      <td>Nightmare Before Christmas, The (1993)</td>\n",
       "      <td>Go Fish (1994)</td>\n",
       "      <td>Bio-Dome (1996)</td>\n",
       "    </tr>\n",
       "    <tr>\n",
       "      <th>7</th>\n",
       "      <td>Star Wars (1977)</td>\n",
       "      <td>Mask, The (1994)</td>\n",
       "      <td>On Golden Pond (1981)</td>\n",
       "    </tr>\n",
       "    <tr>\n",
       "      <th>8</th>\n",
       "      <td>Little Odessa (1994)</td>\n",
       "      <td>Copycat (1995)</td>\n",
       "      <td>So I Married an Axe Murderer (1993)</td>\n",
       "    </tr>\n",
       "    <tr>\n",
       "      <th>9</th>\n",
       "      <td>Maverick (1994)</td>\n",
       "      <td>Blade Runner (1982)</td>\n",
       "      <td>When Harry Met Sally... (1989)</td>\n",
       "    </tr>\n",
       "    <tr>\n",
       "      <th>10</th>\n",
       "      <td>Aladdin (1992)</td>\n",
       "      <td>Batman (1989)</td>\n",
       "      <td>Blade Runner (1982)</td>\n",
       "    </tr>\n",
       "    <tr>\n",
       "      <th>11</th>\n",
       "      <td>Monty Python and the Holy Grail (1974)</td>\n",
       "      <td>Crumb (1994)</td>\n",
       "      <td>Raiders of the Lost Ark (1981)</td>\n",
       "    </tr>\n",
       "    <tr>\n",
       "      <th>12</th>\n",
       "      <td>Ghost (1990)</td>\n",
       "      <td>Batman Returns (1992)</td>\n",
       "      <td>Godfather: Part II, The (1974)</td>\n",
       "    </tr>\n",
       "    <tr>\n",
       "      <th>13</th>\n",
       "      <td>Age of Innocence, The (1993)</td>\n",
       "      <td>Jaws 2 (1978)</td>\n",
       "      <td>Graduate, The (1967)</td>\n",
       "    </tr>\n",
       "    <tr>\n",
       "      <th>14</th>\n",
       "      <td>Crow, The (1994)</td>\n",
       "      <td>Apocalypse Now (1979)</td>\n",
       "      <td>Wolf (1994)</td>\n",
       "    </tr>\n",
       "    <tr>\n",
       "      <th>15</th>\n",
       "      <td>Naked (1993)</td>\n",
       "      <td>Beavis and Butt-head Do America (1996)</td>\n",
       "      <td>Unforgiven (1992)</td>\n",
       "    </tr>\n",
       "    <tr>\n",
       "      <th>16</th>\n",
       "      <td>Georgia (1995)</td>\n",
       "      <td>Mission: Impossible (1996)</td>\n",
       "      <td>Sneakers (1992)</td>\n",
       "    </tr>\n",
       "    <tr>\n",
       "      <th>17</th>\n",
       "      <td>Home for the Holidays (1995)</td>\n",
       "      <td>Harold and Maude (1971)</td>\n",
       "      <td>This Is Spinal Tap (1984)</td>\n",
       "    </tr>\n",
       "    <tr>\n",
       "      <th>18</th>\n",
       "      <td>Bio-Dome (1996)</td>\n",
       "      <td>True Romance (1993)</td>\n",
       "      <td>Terminator 2: Judgment Day (1991)</td>\n",
       "    </tr>\n",
       "    <tr>\n",
       "      <th>19</th>\n",
       "      <td>Nell (1994)</td>\n",
       "      <td>This Is Spinal Tap (1984)</td>\n",
       "      <td>Bram Stoker's Dracula (1992)</td>\n",
       "    </tr>\n",
       "    <tr>\n",
       "      <th>20</th>\n",
       "      <td>Batman (1989)</td>\n",
       "      <td>Age of Innocence, The (1993)</td>\n",
       "      <td>Taxi Driver (1976)</td>\n",
       "    </tr>\n",
       "    <tr>\n",
       "      <th>21</th>\n",
       "      <td>Remains of the Day, The (1993)</td>\n",
       "      <td>Sneakers (1992)</td>\n",
       "      <td>Patton (1970)</td>\n",
       "    </tr>\n",
       "    <tr>\n",
       "      <th>22</th>\n",
       "      <td>Just Cause (1995)</td>\n",
       "      <td>Alice in Wonderland (1951)</td>\n",
       "      <td>Lawnmower Man, The (1992)</td>\n",
       "    </tr>\n",
       "    <tr>\n",
       "      <th>23</th>\n",
       "      <td>Sound of Music, The (1965)</td>\n",
       "      <td>Bananas (1971)</td>\n",
       "      <td>Wild Bunch, The (1969)</td>\n",
       "    </tr>\n",
       "    <tr>\n",
       "      <th>24</th>\n",
       "      <td>Boys on the Side (1995)</td>\n",
       "      <td>On Golden Pond (1981)</td>\n",
       "      <td>Silence of the Lambs, The (1991)</td>\n",
       "    </tr>\n",
       "  </tbody>\n",
       "</table>\n",
       "</div>"
      ],
      "text/plain": [
       "                  Original Recommendations  \\\n",
       "0                      Blade Runner (1982)   \n",
       "1                         Jane Eyre (1996)   \n",
       "2                            Jaws 2 (1978)   \n",
       "3                 Radioland Murders (1994)   \n",
       "4                    Reservoir Dogs (1992)   \n",
       "5         Shawshank Redemption, The (1994)   \n",
       "6   Nightmare Before Christmas, The (1993)   \n",
       "7                         Star Wars (1977)   \n",
       "8                     Little Odessa (1994)   \n",
       "9                          Maverick (1994)   \n",
       "10                          Aladdin (1992)   \n",
       "11  Monty Python and the Holy Grail (1974)   \n",
       "12                            Ghost (1990)   \n",
       "13            Age of Innocence, The (1993)   \n",
       "14                        Crow, The (1994)   \n",
       "15                            Naked (1993)   \n",
       "16                          Georgia (1995)   \n",
       "17            Home for the Holidays (1995)   \n",
       "18                         Bio-Dome (1996)   \n",
       "19                             Nell (1994)   \n",
       "20                           Batman (1989)   \n",
       "21          Remains of the Day, The (1993)   \n",
       "22                       Just Cause (1995)   \n",
       "23              Sound of Music, The (1965)   \n",
       "24                 Boys on the Side (1995)   \n",
       "\n",
       "                 Return of the Jedi (1983)  \\\n",
       "0                          Bio-Dome (1996)   \n",
       "1                         High Noon (1952)   \n",
       "2        Ace Ventura: Pet Detective (1994)   \n",
       "3                  Forbidden Planet (1956)   \n",
       "4                 Radioland Murders (1994)   \n",
       "5                        Young Guns (1988)   \n",
       "6                           Go Fish (1994)   \n",
       "7                         Mask, The (1994)   \n",
       "8                           Copycat (1995)   \n",
       "9                      Blade Runner (1982)   \n",
       "10                           Batman (1989)   \n",
       "11                            Crumb (1994)   \n",
       "12                   Batman Returns (1992)   \n",
       "13                           Jaws 2 (1978)   \n",
       "14                   Apocalypse Now (1979)   \n",
       "15  Beavis and Butt-head Do America (1996)   \n",
       "16              Mission: Impossible (1996)   \n",
       "17                 Harold and Maude (1971)   \n",
       "18                     True Romance (1993)   \n",
       "19               This Is Spinal Tap (1984)   \n",
       "20            Age of Innocence, The (1993)   \n",
       "21                         Sneakers (1992)   \n",
       "22              Alice in Wonderland (1951)   \n",
       "23                          Bananas (1971)   \n",
       "24                   On Golden Pond (1981)   \n",
       "\n",
       "                                M*A*S*H (1970)  \n",
       "0   Star Trek III: The Search for Spock (1984)  \n",
       "1                     Radioland Murders (1994)  \n",
       "2                             Mask, The (1994)  \n",
       "3   Children of the Corn: The Gathering (1996)  \n",
       "4                Much Ado About Nothing (1993)  \n",
       "5                    Dances with Wolves (1990)  \n",
       "6                              Bio-Dome (1996)  \n",
       "7                        On Golden Pond (1981)  \n",
       "8          So I Married an Axe Murderer (1993)  \n",
       "9               When Harry Met Sally... (1989)  \n",
       "10                         Blade Runner (1982)  \n",
       "11              Raiders of the Lost Ark (1981)  \n",
       "12              Godfather: Part II, The (1974)  \n",
       "13                        Graduate, The (1967)  \n",
       "14                                 Wolf (1994)  \n",
       "15                           Unforgiven (1992)  \n",
       "16                             Sneakers (1992)  \n",
       "17                   This Is Spinal Tap (1984)  \n",
       "18           Terminator 2: Judgment Day (1991)  \n",
       "19                Bram Stoker's Dracula (1992)  \n",
       "20                          Taxi Driver (1976)  \n",
       "21                               Patton (1970)  \n",
       "22                   Lawnmower Man, The (1992)  \n",
       "23                      Wild Bunch, The (1969)  \n",
       "24            Silence of the Lambs, The (1991)  "
      ]
     },
     "execution_count": 42,
     "metadata": {},
     "output_type": "execute_result"
    }
   ],
   "source": [
    "movie_to_click = 210\n",
    "recommendations_df = get_new_recommendations_df(recommendations_df, movie_to_click)\n",
    "recommendations_df"
   ]
  },
  {
   "cell_type": "code",
   "execution_count": 43,
   "metadata": {},
   "outputs": [
    {
     "data": {
      "text/html": [
       "<div>\n",
       "<style scoped>\n",
       "    .dataframe tbody tr th:only-of-type {\n",
       "        vertical-align: middle;\n",
       "    }\n",
       "\n",
       "    .dataframe tbody tr th {\n",
       "        vertical-align: top;\n",
       "    }\n",
       "\n",
       "    .dataframe thead th {\n",
       "        text-align: right;\n",
       "    }\n",
       "</style>\n",
       "<table border=\"1\" class=\"dataframe\">\n",
       "  <thead>\n",
       "    <tr style=\"text-align: right;\">\n",
       "      <th></th>\n",
       "      <th>Original Recommendations</th>\n",
       "      <th>Return of the Jedi (1983)</th>\n",
       "      <th>M*A*S*H (1970)</th>\n",
       "      <th>Old Yeller (1957)</th>\n",
       "    </tr>\n",
       "  </thead>\n",
       "  <tbody>\n",
       "    <tr>\n",
       "      <th>0</th>\n",
       "      <td>Blade Runner (1982)</td>\n",
       "      <td>Bio-Dome (1996)</td>\n",
       "      <td>Star Trek III: The Search for Spock (1984)</td>\n",
       "      <td>Graduate, The (1967)</td>\n",
       "    </tr>\n",
       "    <tr>\n",
       "      <th>1</th>\n",
       "      <td>Jane Eyre (1996)</td>\n",
       "      <td>High Noon (1952)</td>\n",
       "      <td>Radioland Murders (1994)</td>\n",
       "      <td>Star Trek IV: The Voyage Home (1986)</td>\n",
       "    </tr>\n",
       "    <tr>\n",
       "      <th>2</th>\n",
       "      <td>Jaws 2 (1978)</td>\n",
       "      <td>Ace Ventura: Pet Detective (1994)</td>\n",
       "      <td>Mask, The (1994)</td>\n",
       "      <td>Mask, The (1994)</td>\n",
       "    </tr>\n",
       "    <tr>\n",
       "      <th>3</th>\n",
       "      <td>Radioland Murders (1994)</td>\n",
       "      <td>Forbidden Planet (1956)</td>\n",
       "      <td>Children of the Corn: The Gathering (1996)</td>\n",
       "      <td>On Golden Pond (1981)</td>\n",
       "    </tr>\n",
       "    <tr>\n",
       "      <th>4</th>\n",
       "      <td>Reservoir Dogs (1992)</td>\n",
       "      <td>Radioland Murders (1994)</td>\n",
       "      <td>Much Ado About Nothing (1993)</td>\n",
       "      <td>Radioland Murders (1994)</td>\n",
       "    </tr>\n",
       "    <tr>\n",
       "      <th>5</th>\n",
       "      <td>Shawshank Redemption, The (1994)</td>\n",
       "      <td>Young Guns (1988)</td>\n",
       "      <td>Dances with Wolves (1990)</td>\n",
       "      <td>20,000 Leagues Under the Sea (1954)</td>\n",
       "    </tr>\n",
       "    <tr>\n",
       "      <th>6</th>\n",
       "      <td>Nightmare Before Christmas, The (1993)</td>\n",
       "      <td>Go Fish (1994)</td>\n",
       "      <td>Bio-Dome (1996)</td>\n",
       "      <td>Beavis and Butt-head Do America (1996)</td>\n",
       "    </tr>\n",
       "    <tr>\n",
       "      <th>7</th>\n",
       "      <td>Star Wars (1977)</td>\n",
       "      <td>Mask, The (1994)</td>\n",
       "      <td>On Golden Pond (1981)</td>\n",
       "      <td>Courage Under Fire (1996)</td>\n",
       "    </tr>\n",
       "    <tr>\n",
       "      <th>8</th>\n",
       "      <td>Little Odessa (1994)</td>\n",
       "      <td>Copycat (1995)</td>\n",
       "      <td>So I Married an Axe Murderer (1993)</td>\n",
       "      <td>Blade Runner (1982)</td>\n",
       "    </tr>\n",
       "    <tr>\n",
       "      <th>9</th>\n",
       "      <td>Maverick (1994)</td>\n",
       "      <td>Blade Runner (1982)</td>\n",
       "      <td>When Harry Met Sally... (1989)</td>\n",
       "      <td>Red Rock West (1992)</td>\n",
       "    </tr>\n",
       "    <tr>\n",
       "      <th>10</th>\n",
       "      <td>Aladdin (1992)</td>\n",
       "      <td>Batman (1989)</td>\n",
       "      <td>Blade Runner (1982)</td>\n",
       "      <td>Cinderella (1950)</td>\n",
       "    </tr>\n",
       "    <tr>\n",
       "      <th>11</th>\n",
       "      <td>Monty Python and the Holy Grail (1974)</td>\n",
       "      <td>Crumb (1994)</td>\n",
       "      <td>Raiders of the Lost Ark (1981)</td>\n",
       "      <td>So Dear to My Heart (1949)</td>\n",
       "    </tr>\n",
       "    <tr>\n",
       "      <th>12</th>\n",
       "      <td>Ghost (1990)</td>\n",
       "      <td>Batman Returns (1992)</td>\n",
       "      <td>Godfather: Part II, The (1974)</td>\n",
       "      <td>High Noon (1952)</td>\n",
       "    </tr>\n",
       "    <tr>\n",
       "      <th>13</th>\n",
       "      <td>Age of Innocence, The (1993)</td>\n",
       "      <td>Jaws 2 (1978)</td>\n",
       "      <td>Graduate, The (1967)</td>\n",
       "      <td>Father of the Bride Part II (1995)</td>\n",
       "    </tr>\n",
       "    <tr>\n",
       "      <th>14</th>\n",
       "      <td>Crow, The (1994)</td>\n",
       "      <td>Apocalypse Now (1979)</td>\n",
       "      <td>Wolf (1994)</td>\n",
       "      <td>Batman (1989)</td>\n",
       "    </tr>\n",
       "    <tr>\n",
       "      <th>15</th>\n",
       "      <td>Naked (1993)</td>\n",
       "      <td>Beavis and Butt-head Do America (1996)</td>\n",
       "      <td>Unforgiven (1992)</td>\n",
       "      <td>Children of the Corn: The Gathering (1996)</td>\n",
       "    </tr>\n",
       "    <tr>\n",
       "      <th>16</th>\n",
       "      <td>Georgia (1995)</td>\n",
       "      <td>Mission: Impossible (1996)</td>\n",
       "      <td>Sneakers (1992)</td>\n",
       "      <td>Fargo (1996)</td>\n",
       "    </tr>\n",
       "    <tr>\n",
       "      <th>17</th>\n",
       "      <td>Home for the Holidays (1995)</td>\n",
       "      <td>Harold and Maude (1971)</td>\n",
       "      <td>This Is Spinal Tap (1984)</td>\n",
       "      <td>True Romance (1993)</td>\n",
       "    </tr>\n",
       "    <tr>\n",
       "      <th>18</th>\n",
       "      <td>Bio-Dome (1996)</td>\n",
       "      <td>True Romance (1993)</td>\n",
       "      <td>Terminator 2: Judgment Day (1991)</td>\n",
       "      <td>Junior (1994)</td>\n",
       "    </tr>\n",
       "    <tr>\n",
       "      <th>19</th>\n",
       "      <td>Nell (1994)</td>\n",
       "      <td>This Is Spinal Tap (1984)</td>\n",
       "      <td>Bram Stoker's Dracula (1992)</td>\n",
       "      <td>Kolya (1996)</td>\n",
       "    </tr>\n",
       "    <tr>\n",
       "      <th>20</th>\n",
       "      <td>Batman (1989)</td>\n",
       "      <td>Age of Innocence, The (1993)</td>\n",
       "      <td>Taxi Driver (1976)</td>\n",
       "      <td>When Harry Met Sally... (1989)</td>\n",
       "    </tr>\n",
       "    <tr>\n",
       "      <th>21</th>\n",
       "      <td>Remains of the Day, The (1993)</td>\n",
       "      <td>Sneakers (1992)</td>\n",
       "      <td>Patton (1970)</td>\n",
       "      <td>Bedknobs and Broomsticks (1971)</td>\n",
       "    </tr>\n",
       "    <tr>\n",
       "      <th>22</th>\n",
       "      <td>Just Cause (1995)</td>\n",
       "      <td>Alice in Wonderland (1951)</td>\n",
       "      <td>Lawnmower Man, The (1992)</td>\n",
       "      <td>Free Willy (1993)</td>\n",
       "    </tr>\n",
       "    <tr>\n",
       "      <th>23</th>\n",
       "      <td>Sound of Music, The (1965)</td>\n",
       "      <td>Bananas (1971)</td>\n",
       "      <td>Wild Bunch, The (1969)</td>\n",
       "      <td>Star Trek III: The Search for Spock (1984)</td>\n",
       "    </tr>\n",
       "    <tr>\n",
       "      <th>24</th>\n",
       "      <td>Boys on the Side (1995)</td>\n",
       "      <td>On Golden Pond (1981)</td>\n",
       "      <td>Silence of the Lambs, The (1991)</td>\n",
       "      <td>Mary Poppins (1964)</td>\n",
       "    </tr>\n",
       "  </tbody>\n",
       "</table>\n",
       "</div>"
      ],
      "text/plain": [
       "                  Original Recommendations  \\\n",
       "0                      Blade Runner (1982)   \n",
       "1                         Jane Eyre (1996)   \n",
       "2                            Jaws 2 (1978)   \n",
       "3                 Radioland Murders (1994)   \n",
       "4                    Reservoir Dogs (1992)   \n",
       "5         Shawshank Redemption, The (1994)   \n",
       "6   Nightmare Before Christmas, The (1993)   \n",
       "7                         Star Wars (1977)   \n",
       "8                     Little Odessa (1994)   \n",
       "9                          Maverick (1994)   \n",
       "10                          Aladdin (1992)   \n",
       "11  Monty Python and the Holy Grail (1974)   \n",
       "12                            Ghost (1990)   \n",
       "13            Age of Innocence, The (1993)   \n",
       "14                        Crow, The (1994)   \n",
       "15                            Naked (1993)   \n",
       "16                          Georgia (1995)   \n",
       "17            Home for the Holidays (1995)   \n",
       "18                         Bio-Dome (1996)   \n",
       "19                             Nell (1994)   \n",
       "20                           Batman (1989)   \n",
       "21          Remains of the Day, The (1993)   \n",
       "22                       Just Cause (1995)   \n",
       "23              Sound of Music, The (1965)   \n",
       "24                 Boys on the Side (1995)   \n",
       "\n",
       "                 Return of the Jedi (1983)  \\\n",
       "0                          Bio-Dome (1996)   \n",
       "1                         High Noon (1952)   \n",
       "2        Ace Ventura: Pet Detective (1994)   \n",
       "3                  Forbidden Planet (1956)   \n",
       "4                 Radioland Murders (1994)   \n",
       "5                        Young Guns (1988)   \n",
       "6                           Go Fish (1994)   \n",
       "7                         Mask, The (1994)   \n",
       "8                           Copycat (1995)   \n",
       "9                      Blade Runner (1982)   \n",
       "10                           Batman (1989)   \n",
       "11                            Crumb (1994)   \n",
       "12                   Batman Returns (1992)   \n",
       "13                           Jaws 2 (1978)   \n",
       "14                   Apocalypse Now (1979)   \n",
       "15  Beavis and Butt-head Do America (1996)   \n",
       "16              Mission: Impossible (1996)   \n",
       "17                 Harold and Maude (1971)   \n",
       "18                     True Romance (1993)   \n",
       "19               This Is Spinal Tap (1984)   \n",
       "20            Age of Innocence, The (1993)   \n",
       "21                         Sneakers (1992)   \n",
       "22              Alice in Wonderland (1951)   \n",
       "23                          Bananas (1971)   \n",
       "24                   On Golden Pond (1981)   \n",
       "\n",
       "                                M*A*S*H (1970)  \\\n",
       "0   Star Trek III: The Search for Spock (1984)   \n",
       "1                     Radioland Murders (1994)   \n",
       "2                             Mask, The (1994)   \n",
       "3   Children of the Corn: The Gathering (1996)   \n",
       "4                Much Ado About Nothing (1993)   \n",
       "5                    Dances with Wolves (1990)   \n",
       "6                              Bio-Dome (1996)   \n",
       "7                        On Golden Pond (1981)   \n",
       "8          So I Married an Axe Murderer (1993)   \n",
       "9               When Harry Met Sally... (1989)   \n",
       "10                         Blade Runner (1982)   \n",
       "11              Raiders of the Lost Ark (1981)   \n",
       "12              Godfather: Part II, The (1974)   \n",
       "13                        Graduate, The (1967)   \n",
       "14                                 Wolf (1994)   \n",
       "15                           Unforgiven (1992)   \n",
       "16                             Sneakers (1992)   \n",
       "17                   This Is Spinal Tap (1984)   \n",
       "18           Terminator 2: Judgment Day (1991)   \n",
       "19                Bram Stoker's Dracula (1992)   \n",
       "20                          Taxi Driver (1976)   \n",
       "21                               Patton (1970)   \n",
       "22                   Lawnmower Man, The (1992)   \n",
       "23                      Wild Bunch, The (1969)   \n",
       "24            Silence of the Lambs, The (1991)   \n",
       "\n",
       "                             Old Yeller (1957)  \n",
       "0                         Graduate, The (1967)  \n",
       "1         Star Trek IV: The Voyage Home (1986)  \n",
       "2                             Mask, The (1994)  \n",
       "3                        On Golden Pond (1981)  \n",
       "4                     Radioland Murders (1994)  \n",
       "5          20,000 Leagues Under the Sea (1954)  \n",
       "6       Beavis and Butt-head Do America (1996)  \n",
       "7                    Courage Under Fire (1996)  \n",
       "8                          Blade Runner (1982)  \n",
       "9                         Red Rock West (1992)  \n",
       "10                           Cinderella (1950)  \n",
       "11                  So Dear to My Heart (1949)  \n",
       "12                            High Noon (1952)  \n",
       "13          Father of the Bride Part II (1995)  \n",
       "14                               Batman (1989)  \n",
       "15  Children of the Corn: The Gathering (1996)  \n",
       "16                                Fargo (1996)  \n",
       "17                         True Romance (1993)  \n",
       "18                               Junior (1994)  \n",
       "19                                Kolya (1996)  \n",
       "20              When Harry Met Sally... (1989)  \n",
       "21             Bedknobs and Broomsticks (1971)  \n",
       "22                           Free Willy (1993)  \n",
       "23  Star Trek III: The Search for Spock (1984)  \n",
       "24                         Mary Poppins (1964)  "
      ]
     },
     "execution_count": 43,
     "metadata": {},
     "output_type": "execute_result"
    }
   ],
   "source": [
    "movie_to_click = 415\n",
    "recommendations_df = get_new_recommendations_df(recommendations_df, movie_to_click)\n",
    "recommendations_df"
   ]
  },
  {
   "cell_type": "markdown",
   "metadata": {},
   "source": [
    "## Conclusion\n",
    "\n",
    "In this workshop you successfully created a dataset group, a dataset based on interactions, trained a recommendation model based on the data, deployed a campaign to generate recommendations, evaluated the initial recommendations, leveraged real time event tracking for even better recommendations, and below is bonus material to show how to export recommendations in  \n",
    "\n",
    "This content will stay public on GitHub and can be used within your organization in order to build custom recommendation models, take a look at the various other notebooks in the future.\n",
    "\n",
    "Thank you, and good luck in your next Machine Learning project!\n",
    "\n",
    "BONUS MATERIAL BELOW:"
   ]
  },
  {
   "cell_type": "markdown",
   "metadata": {},
   "source": [
    "## Batch Recommendations\n",
    "\n",
    "So far you have seen how to generate recommendations via an API call and interact with event trackers. That works well for many applications but you may find yourself wanting to cache all recommendations for users locally or even to study the recommendations for new ideas. To support that Amazon Personalize supports batch exporting of your recommendations to a file as well. The cells below will walk you through sending recommendations to a file in S3 and then will show its contents. The file can be downloaded from S3 to your local computer as well."
   ]
  },
  {
   "cell_type": "markdown",
   "metadata": {},
   "source": [
    "First you will need to create a JSON file of user IDS"
   ]
  },
  {
   "cell_type": "code",
   "execution_count": 44,
   "metadata": {},
   "outputs": [],
   "source": [
    "user_IDs = ['561', '233', '579']\n",
    "\n",
    "json_input_filename = \"json_input.json\"\n",
    "with open(json_input_filename, 'w') as json_input:\n",
    "    for user_id in user_IDs:\n",
    "        json_input.write('{\"userId\": \"' + user_id + '\"}\\n')"
   ]
  },
  {
   "cell_type": "markdown",
   "metadata": {},
   "source": [
    "Now upload this file to S3:"
   ]
  },
  {
   "cell_type": "code",
   "execution_count": 45,
   "metadata": {},
   "outputs": [
    {
     "name": "stdout",
     "output_type": "stream",
     "text": [
      "s3://006215296044reinventpersonalizeworkshop/json_input.json\n"
     ]
    }
   ],
   "source": [
    "boto3.Session().resource('s3').Bucket(bucket_name).Object(json_input_filename).upload_file(json_input_filename)\n",
    "s3_input_path = \"s3://\" + bucket_name + \"/\" + json_input_filename\n",
    "print(s3_input_path)"
   ]
  },
  {
   "cell_type": "markdown",
   "metadata": {},
   "source": [
    "Now that the input file is available in S3, you need to define where the output will go, and create a batch inference job."
   ]
  },
  {
   "cell_type": "code",
   "execution_count": 46,
   "metadata": {},
   "outputs": [
    {
     "name": "stdout",
     "output_type": "stream",
     "text": [
      "s3://006215296044reinventpersonalizeworkshop/\n"
     ]
    }
   ],
   "source": [
    "s3_output_path = \"s3://\" + bucket_name + \"/\"\n",
    "print(s3_output_path)"
   ]
  },
  {
   "cell_type": "markdown",
   "metadata": {},
   "source": [
    "The cell below creates the batch job."
   ]
  },
  {
   "cell_type": "code",
   "execution_count": 47,
   "metadata": {},
   "outputs": [],
   "source": [
    "personalize_rec = boto3.client(service_name='personalize')\n",
    "batchInferenceJobArn = personalize_rec.create_batch_inference_job (\n",
    "    solutionVersionArn = solution_version_arn,\n",
    "    jobName = \"RI-Workshop-Batch-Inference-Job\",\n",
    "    roleArn = role_arn,\n",
    "    jobInput = \n",
    "     {\"s3DataSource\": {\"path\": s3_input_path}},\n",
    "    jobOutput = \n",
    "     {\"s3DataDestination\":{\"path\": s3_output_path}}\n",
    ")\n",
    "batchInferenceJobArn = batchInferenceJobArn['batchInferenceJobArn']"
   ]
  },
  {
   "cell_type": "markdown",
   "metadata": {},
   "source": [
    "The next cell will poll until the export has completed. This is the final waiting loop of the workshop! This will again poll until it reaches an `ACTIVE` state, you can continue on once this is reached."
   ]
  },
  {
   "cell_type": "code",
   "execution_count": null,
   "metadata": {},
   "outputs": [
    {
     "name": "stdout",
     "output_type": "stream",
     "text": [
      "Import Started on:  01:26:50 AM\n",
      "DatasetInferenceJob: CREATE PENDING\n",
      "DatasetInferenceJob: CREATE IN_PROGRESS\n",
      "DatasetInferenceJob: CREATE IN_PROGRESS\n",
      "DatasetInferenceJob: CREATE IN_PROGRESS\n",
      "DatasetInferenceJob: CREATE IN_PROGRESS\n"
     ]
    }
   ],
   "source": [
    "current_time = datetime.datetime.now()\n",
    "print(\"Import Started on: \", current_time.strftime(\"%I:%M:%S %p\"))\n",
    "\n",
    "max_time = time.time() + 3*60*60 # 3 hours\n",
    "while time.time() < max_time:\n",
    "    describe_dataset_inference_job_response = personalize_rec.describe_batch_inference_job(\n",
    "        batchInferenceJobArn = batchInferenceJobArn\n",
    "    )\n",
    "    status = describe_dataset_inference_job_response[\"batchInferenceJob\"]['status']\n",
    "    print(\"DatasetInferenceJob: {}\".format(status))\n",
    "    \n",
    "    if status == \"ACTIVE\" or status == \"CREATE FAILED\":\n",
    "        break\n",
    "        \n",
    "    time.sleep(60)\n",
    "    \n",
    "current_time = datetime.datetime.now()\n",
    "print(\"Import Completed on: \", current_time.strftime(\"%I:%M:%S %p\"))"
   ]
  },
  {
   "cell_type": "markdown",
   "metadata": {},
   "source": [
    "With the data successfully exported, grab the file and parse it."
   ]
  },
  {
   "cell_type": "code",
   "execution_count": null,
   "metadata": {},
   "outputs": [],
   "source": [
    "s3 = boto3.client('s3')\n",
    "export_name = json_input_filename + \".out\"\n",
    "s3.download_file(bucket_name, export_name, export_name)\n",
    "\n",
    "# Update DF rendering\n",
    "pd.set_option('display.max_rows', 30)\n",
    "with open(export_name) as json_file:\n",
    "    # Get the first line and parse it\n",
    "    line = json.loads(json_file.readline())\n",
    "    # Do the same for the other lines\n",
    "    while line:\n",
    "        # extract the user ID \n",
    "        col_header = \"User: \" + line['input']['userId']\n",
    "        # Create a list for all the movies\n",
    "        recommendation_list = []\n",
    "        # Add all the entries\n",
    "        for item in line['output']['recommendedItems']:\n",
    "            title = get_movie_title(item)\n",
    "            recommendation_list.append(title)\n",
    "        if 'bulk_recommendations_df' in locals():\n",
    "            new_rec_DF = pd.DataFrame(recommendation_list, columns = [col_header])\n",
    "            bulk_recommendations_df = bulk_recommendations_df.join(new_rec_DF)\n",
    "        else:\n",
    "            bulk_recommendations_df = pd.DataFrame(recommendation_list, columns=[col_header])\n",
    "        try:\n",
    "            line = json.loads(json_file.readline())\n",
    "        except:\n",
    "            line = None\n",
    "bulk_recommendations_df"
   ]
  },
  {
   "cell_type": "markdown",
   "metadata": {},
   "source": [
    "In the cell above you can see the various recommendations for the users provided, in a real scenario the list of users could be your entire userbase allowing you to quickly reference and compare results between them."
   ]
  },
  {
   "cell_type": "markdown",
   "metadata": {},
   "source": [
    "## Extra Bonus: Cleanup\n",
    "\n",
    "The cells below are totally optional if you are using Event Engine as your account is deleted after the workshop. If you'd like to use this in your own account later, the cells below will delete the resources created to prevent continous charges."
   ]
  },
  {
   "cell_type": "code",
   "execution_count": null,
   "metadata": {},
   "outputs": [],
   "source": [
    "# Delete the campaign:\n",
    "personalize.delete_campaign(campaignArn=campaign_arn)\n",
    "time.sleep(60)"
   ]
  },
  {
   "cell_type": "code",
   "execution_count": null,
   "metadata": {},
   "outputs": [],
   "source": [
    "# Delete the solution\n",
    "personalize.delete_solution(solutionArn=solution_arn)\n",
    "time.sleep(60)"
   ]
  },
  {
   "cell_type": "code",
   "execution_count": null,
   "metadata": {},
   "outputs": [],
   "source": [
    "# Delete the event tracker\n",
    "personalize.delete_event_tracker(eventTrackerArn=event_tracker_arn)\n",
    "time.sleep(60)"
   ]
  },
  {
   "cell_type": "code",
   "execution_count": null,
   "metadata": {},
   "outputs": [],
   "source": [
    "# Delete the interaction dataset\n",
    "personalize.delete_dataset(datasetArn=dataset_arn)\n",
    "time.sleep(60)"
   ]
  },
  {
   "cell_type": "code",
   "execution_count": null,
   "metadata": {},
   "outputs": [],
   "source": [
    "# Delete the event dataset\n",
    "event_interactions_dataset_arn = dataset_arn\n",
    "event_interactions_dataset_arn = event_interactions_dataset_arn.replace(\"INTERACTIONS\", \"EVENT_INTERACTIONS\")\n",
    "personalize.delete_dataset(datasetArn=event_interactions_dataset_arn)\n",
    "time.sleep(60)"
   ]
  },
  {
   "cell_type": "code",
   "execution_count": null,
   "metadata": {},
   "outputs": [],
   "source": [
    "# Delete the schema\n",
    "personalize.delete_schema(schemaArn=schema_arn)"
   ]
  },
  {
   "cell_type": "code",
   "execution_count": null,
   "metadata": {},
   "outputs": [],
   "source": [
    "# Delete the Dataset Group\n",
    "personalize.delete_dataset_group(datasetGroupArn=dataset_group_arn)"
   ]
  },
  {
   "cell_type": "code",
   "execution_count": null,
   "metadata": {},
   "outputs": [],
   "source": [
    "# Empty the S3 Bucket\n",
    "s3 = boto3.resource('s3')\n",
    "bucket = s3.Bucket(bucket_name)\n",
    "bucket.objects.all().delete()\n",
    "time.sleep(60)"
   ]
  },
  {
   "cell_type": "code",
   "execution_count": null,
   "metadata": {},
   "outputs": [],
   "source": [
    "# Delete the S3 Bucket\n",
    "bucket.delete()"
   ]
  },
  {
   "cell_type": "code",
   "execution_count": null,
   "metadata": {},
   "outputs": [],
   "source": [
    "# IAM policies should also be removed\n",
    "iam = boto3.client(\"iam\")\n",
    "iam.detach_role_policy(PolicyArn=\"arn:aws:iam::aws:policy/AmazonS3FullAccess\", RoleName=role_name)\n",
    "iam.detach_role_policy(PolicyArn=\"arn:aws:iam::aws:policy/service-role/AmazonPersonalizeFullAccess\",RoleName=role_name)\n",
    "\n",
    "iam.delete_role(RoleName=role_name)"
   ]
  },
  {
   "cell_type": "markdown",
   "metadata": {},
   "source": [
    "## Last Step\n",
    "\n",
    "After cleaning up all of the resources you can now close this window and go back to the github page you stareted on. At the bottom of the Readme file are steps to delete the CloudFormation stack you created earlier. Once that is done you are 100% done with the workshop.\n",
    "\n",
    "Congratulations!"
   ]
  }
 ],
 "metadata": {
  "kernelspec": {
   "display_name": "conda_python3",
   "language": "python",
   "name": "conda_python3"
  },
  "language_info": {
   "codemirror_mode": {
    "name": "ipython",
    "version": 3
   },
   "file_extension": ".py",
   "mimetype": "text/x-python",
   "name": "python",
   "nbconvert_exporter": "python",
   "pygments_lexer": "ipython3",
   "version": "3.6.5"
  }
 },
 "nbformat": 4,
 "nbformat_minor": 4
}
